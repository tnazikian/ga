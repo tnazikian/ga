{
 "cells": [
  {
   "cell_type": "code",
   "execution_count": 1,
   "metadata": {},
   "outputs": [
    {
     "ename": "NameError",
     "evalue": "name 'data' is not defined",
     "output_type": "error",
     "traceback": [
      "\u001b[1;31m---------------------------------------------------------------------------\u001b[0m",
      "\u001b[1;31mNameError\u001b[0m                                 Traceback (most recent call last)",
      "\u001b[1;32m<ipython-input-1-483a31bca173>\u001b[0m in \u001b[0;36m<module>\u001b[1;34m\u001b[0m\n\u001b[0;32m      3\u001b[0m \u001b[1;32mfrom\u001b[0m \u001b[0msklearn\u001b[0m\u001b[1;33m.\u001b[0m\u001b[0mmodel_selection\u001b[0m \u001b[1;32mimport\u001b[0m \u001b[0mtrain_test_split\u001b[0m\u001b[1;33m\u001b[0m\u001b[1;33m\u001b[0m\u001b[0m\n\u001b[0;32m      4\u001b[0m \u001b[1;33m\u001b[0m\u001b[0m\n\u001b[1;32m----> 5\u001b[1;33m \u001b[0mX_train\u001b[0m\u001b[1;33m,\u001b[0m \u001b[0mX_test\u001b[0m\u001b[1;33m,\u001b[0m \u001b[0my_train\u001b[0m\u001b[1;33m,\u001b[0m \u001b[0my_test\u001b[0m \u001b[1;33m=\u001b[0m \u001b[0mtrain_test_split\u001b[0m\u001b[1;33m(\u001b[0m\u001b[0mdata\u001b[0m\u001b[1;33m/\u001b[0m\u001b[1;36m10\u001b[0m\u001b[1;33m,\u001b[0m \u001b[0my\u001b[0m\u001b[1;33m,\u001b[0m \u001b[0mtest_size\u001b[0m\u001b[1;33m=\u001b[0m\u001b[1;36m0.33\u001b[0m\u001b[1;33m,\u001b[0m \u001b[0mrandom_state\u001b[0m\u001b[1;33m=\u001b[0m\u001b[1;36m42\u001b[0m\u001b[1;33m)\u001b[0m\u001b[1;33m\u001b[0m\u001b[1;33m\u001b[0m\u001b[0m\n\u001b[0m\u001b[0;32m      6\u001b[0m \u001b[1;33m\u001b[0m\u001b[0m\n",
      "\u001b[1;31mNameError\u001b[0m: name 'data' is not defined"
     ]
    }
   ],
   "source": [
    "import tensorflow as tf\n",
    "from tensorflow import keras\n",
    "from sklearn.model_selection import train_test_split\n",
    "\n",
    "X_train, X_test, y_train, y_test = train_test_split(data/10, y, test_size=0.33, random_state=42)\n",
    "\n"
   ]
  },
  {
   "cell_type": "code",
   "execution_count": null,
   "metadata": {},
   "outputs": [],
   "source": [
    "# lr = 0.5\n",
    "# epochs = 10\n",
    "# batch_size = 30\n",
    "# x = tf.placeholder(tf.float32, [None, 3])\n",
    "# y = tf.placeholder(tf.float32, [None, 1])\n",
    "\n",
    "# # now declare the weights connecting the input to the hidden layer\n",
    "# W1 = tf.Variable(tf.random_normal([3, 20], stddev=0.03), name='W1')\n",
    "# b1 = tf.Variable(tf.random_normal([20]), name='b1')\n",
    "# # and the weights connecting the hidden layer to the output layer\n",
    "# W2 = tf.Variable(tf.random_normal([20, 10], stddev=0.03), name='W2')\n",
    "# b2 = tf.Variable(tf.random_normal([10]), name='b2')\n",
    "\n",
    "# W3 = tf.Variable(tf.random_normal([10, 1], stddev=0.03), name='W2')\n",
    "# b3 = tf.Variable(tf.random_normal([1]), name='b2')\n",
    "\n",
    "\n",
    "# # calculate the output of the hidden layer\n",
    "# hidden_out = tf.add(tf.matmul(x, W1), b1)\n",
    "# hidden_out = tf.nn.relu(hidden_out)\n",
    "# hidden_out = tf.add(tf.matmul(hidden_out, W2), b2)\n",
    "# hidden_out = tf.nn.relu(hidden_out)\n",
    "# hidden_out = tf.add(tf.matmul(hidden_out, W3), b3)\n",
    "# hidden_out = tf.nn.softmax(hidden_out)\n",
    "\n",
    "\n",
    "# # a = tf.Variable(1, name='a')\n",
    "# # b = tf.Variable(1, name='b')\n",
    "# # c = tf.Variable(1, name='c')\n",
    "\n",
    "# c2 = tf.math.square(c, name='csquared')\n",
    "# sqrtb = tf.math.sqrt(b, name='bsqrt')\n",
    "# cb = tf.multiply(c2, sqrtb, name='cb')\n",
    "# out = tf.add(a, cb, name='out')\n",
    "\n",
    "# init_op = tf.global_variables_initializer()\n"
   ]
  },
  {
   "cell_type": "code",
   "execution_count": null,
   "metadata": {},
   "outputs": [],
   "source": [
    "import numpy as np\n",
    "import matplotlib.pyplot as plt\n",
    "%matplotlib inline\n",
    "\n",
    "def noisy_gen_data(num_data, high=10):\n",
    "    a=np.random.uniform(low=0.0, high=high, size=num_data)\n",
    "    b=np.random.uniform(low=0.0, high=high, size=num_data)\n",
    "    c=np.random.uniform(low=0.0, high=high, size=num_data)\n",
    "\n",
    "    y=a+np.sqrt(b)*c**2\n",
    "\n",
    "    f = plt.figure(figsize=(32, 14))\n",
    "    ax1 = f.add_subplot(131)\n",
    "    ax2 = f.add_subplot(132)\n",
    "    ax3 = f.add_subplot(133)\n",
    "    \n",
    "    \n",
    "    ax1.hist2d(a,y,100,rasterized=True)\n",
    "    ax1.set_xlabel('a')\n",
    "    ax1.set_ylabel('y')\n",
    "\n",
    "    ax2.hist2d(b,y,100,rasterized=True)\n",
    "    ax2.set_xlabel('b')\n",
    "    ax2.set_ylabel('y')\n",
    "\n",
    "    ax3.hist2d(c,y,100,rasterized=True)\n",
    "    ax3.set_xlabel('c')\n",
    "    ax3.set_ylabel('y')\n",
    "    \n",
    "    return a, b, c, y"
   ]
  },
  {
   "cell_type": "code",
   "execution_count": null,
   "metadata": {},
   "outputs": [],
   "source": [
    "a, b, c, y = noisy_gen_data(100) \n",
    "data = np.stack([a, b, c], axis=1)"
   ]
  },
  {
   "cell_type": "code",
   "execution_count": 4,
   "metadata": {},
   "outputs": [],
   "source": [
    "import numpy as np\n",
    "from matplotlib import pyplot as plt\n",
    "\n",
    "a = np.array(np.random.uniform(low=-1.0, high=1.0, size=100))\n",
    "b = np.array(np.random.uniform(low=-1.0, high=1.0, size=100))\n",
    "c = np.array(np.random.uniform(low=-1.0, high=1.0, size=100))\n",
    "# y = a + b*c*a"
   ]
  },
  {
   "cell_type": "code",
   "execution_count": 5,
   "metadata": {},
   "outputs": [],
   "source": [
    "a = np.array(np.random.uniform(low=-1.0, high=1.0, size=100))\n",
    "b = np.array(np.random.uniform(low=-1.0, high=1.0, size=100))\n",
    "c = np.array(np.random.uniform(low=-1.0, high=1.0, size=100))\n",
    "data = np.stack([a, b, c], axis=1)\n"
   ]
  },
  {
   "cell_type": "code",
   "execution_count": 6,
   "metadata": {},
   "outputs": [
    {
     "ename": "NameError",
     "evalue": "name 'y' is not defined",
     "output_type": "error",
     "traceback": [
      "\u001b[1;31m---------------------------------------------------------------------------\u001b[0m",
      "\u001b[1;31mNameError\u001b[0m                                 Traceback (most recent call last)",
      "\u001b[1;32m<ipython-input-6-f9ef2811acba>\u001b[0m in \u001b[0;36m<module>\u001b[1;34m\u001b[0m\n\u001b[1;32m----> 1\u001b[1;33m \u001b[0mnp\u001b[0m\u001b[1;33m.\u001b[0m\u001b[0mcov\u001b[0m\u001b[1;33m(\u001b[0m\u001b[0mb\u001b[0m\u001b[1;33m,\u001b[0m \u001b[0my\u001b[0m\u001b[1;33m)\u001b[0m\u001b[1;33m\u001b[0m\u001b[1;33m\u001b[0m\u001b[0m\n\u001b[0m",
      "\u001b[1;31mNameError\u001b[0m: name 'y' is not defined"
     ]
    }
   ],
   "source": [
    "np.cov(b, y)"
   ]
  },
  {
   "cell_type": "code",
   "execution_count": 7,
   "metadata": {},
   "outputs": [
    {
     "ename": "NameError",
     "evalue": "name 'y' is not defined",
     "output_type": "error",
     "traceback": [
      "\u001b[1;31m---------------------------------------------------------------------------\u001b[0m",
      "\u001b[1;31mNameError\u001b[0m                                 Traceback (most recent call last)",
      "\u001b[1;32m<ipython-input-7-cf0c4a9e9729>\u001b[0m in \u001b[0;36m<module>\u001b[1;34m\u001b[0m\n\u001b[1;32m----> 1\u001b[1;33m \u001b[0mnp\u001b[0m\u001b[1;33m.\u001b[0m\u001b[0mcorrelate\u001b[0m\u001b[1;33m(\u001b[0m\u001b[0mc\u001b[0m\u001b[1;33m,\u001b[0m \u001b[0my\u001b[0m\u001b[1;33m)\u001b[0m\u001b[1;33m\u001b[0m\u001b[1;33m\u001b[0m\u001b[0m\n\u001b[0m",
      "\u001b[1;31mNameError\u001b[0m: name 'y' is not defined"
     ]
    }
   ],
   "source": [
    "np.correlate(c, y)"
   ]
  },
  {
   "cell_type": "code",
   "execution_count": 8,
   "metadata": {},
   "outputs": [
    {
     "data": {
      "text/plain": [
       "8"
      ]
     },
     "execution_count": 8,
     "metadata": {},
     "output_type": "execute_result"
    }
   ],
   "source": [
    "np.random.randint(low=0, high=9)"
   ]
  },
  {
   "cell_type": "code",
   "execution_count": null,
   "metadata": {},
   "outputs": [],
   "source": [
    "l = [1, 2, 5, 4]\n",
    "sorted(range(len(l)), key=lambda k: l[k])"
   ]
  },
  {
   "cell_type": "code",
   "execution_count": null,
   "metadata": {},
   "outputs": [],
   "source": [
    "d = [4, 3, 2, 1]\n",
    "sum1 = np.sum(d)\n",
    "prob=d/sum1\n",
    "prob"
   ]
  },
  {
   "cell_type": "code",
   "execution_count": null,
   "metadata": {},
   "outputs": [],
   "source": [
    "for i in range(len(d)):\n",
    "    print(i)"
   ]
  },
  {
   "cell_type": "code",
   "execution_count": 410,
   "metadata": {},
   "outputs": [],
   "source": [
    "import copy\n",
    "MATE=0.4\n",
    "MUTATE=0.5\n",
    "INDIVIDUALS=100\n",
    "class Population:\n",
    "    def __init__(self, individuals, data, y):\n",
    "        self.individuals=individuals\n",
    "        if len(individuals) < INDIVIDUALS:\n",
    "            self.pop_size=INDIVIDUALS\n",
    "        else:\n",
    "            self.pop_size=len(individuals)\n",
    "        self.data = data\n",
    "        self.y = y\n",
    "        self.mut_coeffs = np.asarray([0.1, 1.0])\n",
    "        \n",
    "        self.scores = [individual.calc_fitness(self.data, self.y) \n",
    "             for individual in individuals]\n",
    "        self.best_ind = np.where(self.scores == np.max(self.scores))[0][0]\n",
    "        self.last_best_func = self.individuals[self.best_ind]\n",
    "        \n",
    "    def get_best_func(self):\n",
    "        try:\n",
    "            return self.individuals[self.best_ind]\n",
    "        except:\n",
    "            print(self.best_ind)\n",
    "            raise\n",
    "#         return self.best_ind\n",
    "        \n",
    "    def new_pop(self, scores):\n",
    "#         scores = [individual.calc_fitness(self.data, self.y) \n",
    "#              for individual in self.individuals]\n",
    "        #sorted_indeces = sorted(range(len(scores)), key=lambda k: scores[k])\n",
    "        sum1 = np.sum(scores)\n",
    "        prob=scores/sum1\n",
    "        #new_pop = np.random.choice(self.individuals, int(self.pop_size*4/5), p=prob, replace=True)\n",
    "        new_pop = np.random.choice(self.individuals, self.pop_size, p=prob, replace=True)\n",
    "        #new_pop_ind = np.random.choice(len(self.individuals), self.pop_size, p=prob, replace=True)\n",
    "        #np.append(new_pop, [copy.copy(self.get_best_func())]*(self.pop_size - int(self.pop_size*4/5)))\n",
    "        #c, p, o = self.get_best_func().get_coeffs()\n",
    "        #new_cand = [Individual(c, p, o) for _ in range(self.pop_size - int(self.pop_size*4/5))]\n",
    "        #np.append(new_pop, new_cand)\n",
    "        #return new_pop_ind\n",
    "        return new_pop\n",
    "        \n",
    "    def cycle(self):\n",
    "        new_pop = self.new_pop(self.scores)\n",
    "        #prevent call by reference\n",
    "        self.individuals = [individual.get_copy() for individual in new_pop]\n",
    "        mate_ind = self.mate()\n",
    "        if len(mate_ind) > 0:\n",
    "            self.mutate(mate_ind)\n",
    "        self.scores = [individual.calc_fitness(self.data, self.y) \n",
    "             for individual in self.individuals]\n",
    "        current_best_ind = np.where(self.scores == np.max(self.scores))[0][0]\n",
    "        worst_score_ind = np.where(self.scores == np.min(self.scores))[0][0]\n",
    "        if self.last_best_func.get_fitness() > self.scores[current_best_ind]:\n",
    "            self.scores[worst_score_ind] = self.last_best_func.get_fitness()\n",
    "            self.individuals[worst_score_ind] = self.last_best_func\n",
    "            self.best_ind = worst_score_ind\n",
    "        else:\n",
    "            self.best_ind = current_best_ind\n",
    "        self.last_best_func = self.individuals[self.best_ind]\n",
    "    \n",
    "#     def cycle(self):\n",
    "#         new_pop = self.new_pop(self.scores)\n",
    "#         #prevent call by reference\n",
    "#         new_individuals = [individual.get_copy() for individual in new_pop]\n",
    "#         mate_ind = self.mate()\n",
    "#         if len(mate_ind) > 0:\n",
    "#             self.mutate(mate_ind)\n",
    "#         self.scores = [individual.calc_fitness(self.data, self.y) \n",
    "#              for individual in new_individuals]\n",
    "#         current_best_ind = np.where(self.scores == np.max(self.scores))[0][0]\n",
    "# #         if self.last_best_func.get_fitness() > self.scores[current_best_ind]:\n",
    "# #             self.scores.append(self.last_best_func.get_fitness())\n",
    "# #             new_individuals.append(self.last_best_func)\n",
    "# #             self.best_ind = len(new_individuals) - 1\n",
    "# #         else:\n",
    "# #             self.best_ind = current_best_ind\n",
    "#         self.last_best_func = new_individuals[current_best_ind]\n",
    "#         self.best_ind = np.where(self.scores == np.max(self.scores))[0][0]\n",
    "#         self.individuals = new_individuals\n",
    "\n",
    "    def mate(self):\n",
    "        #select 20 percent of population to mate\n",
    "        num_to_mate = int(len(self.individuals)*MATE)\n",
    "        if num_to_mate >= 2:\n",
    "            if num_to_mate % 2 == 1:\n",
    "                num_to_mate += 1\n",
    "#             maters = np.random.choice(self.individuals, num_to_mate, replace=False)\n",
    "#             for i in range(len(maters)//2):\n",
    "#                 maters[2*i].mate(maters[2*i+1])\n",
    "                \n",
    "            mating_ind = np.random.choice(len(self.individuals), num_to_mate, replace=False)\n",
    "            for i in range(len(mating_ind)//2):\n",
    "                self.individuals[2*i].mate(self.individuals[2*i+1])\n",
    "            return mating_ind\n",
    "        return None\n",
    "                \n",
    "    def mutate(self, mate_ind):\n",
    "#         num_to_mutate = int(len(self.individuals)*MUTATE)\n",
    "        num_to_mutate = int(len(mate_ind)*MUTATE)\n",
    "        mutate_ind = np.random.choice(mate_ind, num_to_mutate, replace=False)\n",
    "#         print(mutate_ind, 'mutate ind')\n",
    "#         for i in mutate_ind:\n",
    "#             print((self.individuals[i]))\n",
    "#         print(num_to_mutate)\n",
    "        if len(mutate_ind) > 0:\n",
    "#             mutate_ind = np.random.choice(len(self.individuals), num_to_mutate)\n",
    "            for i in mutate_ind:\n",
    "#                 print(i)\n",
    "                self.individuals[i].mutate(self.mut_coeffs * sigmoid_gyaku(self.get_best_func().get_fitness()/100))\n",
    "#                 print(sigmoid(self.get_best_func().get_fitness()))\n",
    "#                 self.individuals[i].mutate(self.mut_coeffs/\n",
    "#                                            (self.get_best_func().get_fitness()))\n",
    "    \n",
    "#         for i in mutate_ind:\n",
    "#             print((self.individuals[i]), 'after')\n",
    "                \n",
    "\n",
    "            \n",
    "        "
   ]
  },
  {
   "cell_type": "code",
   "execution_count": 411,
   "metadata": {},
   "outputs": [
    {
     "name": "stdout",
     "output_type": "stream",
     "text": [
      "1*(x0)**3 \n",
      "1*(x0)**3  b \n",
      "1*(x0)**3 \n",
      "1.1*(x0)**3  b \n"
     ]
    }
   ],
   "source": [
    "a = Individual([1], [3], [])\n",
    "b = a.get_copy()\n",
    "\n",
    "print(a)\n",
    "print(b, 'b ')\n",
    "b.mutate([0.1, 1])\n",
    "print(a)\n",
    "print(b, 'b ')\n"
   ]
  },
  {
   "cell_type": "code",
   "execution_count": 434,
   "metadata": {},
   "outputs": [],
   "source": [
    "import random, copy\n",
    "class Individual:\n",
    "    def __init__(self, coeffs, pows, operators):\n",
    "        if len(coeffs) - 1 != len(operators) or len(coeffs) != len(pows):\n",
    "            raise ValueError(\"check inputs\")\n",
    "        self.coeffs = coeffs\n",
    "        self.pows = pows\n",
    "        self.num_vars = len(coeffs)\n",
    "        self.operators = operators\n",
    "        self.fitness = None\n",
    "        \n",
    "    def mutate(self, coeffs):\n",
    "        r = random.random()\n",
    "#         print(self, 'before', id(self))\n",
    "        if r <= 0.75:\n",
    "            c1 = np.random.choice(len(self.coeffs), 1)[0]\n",
    "            #self.coeffs[c1] += coeffs[0]*np.random.normal(0, 1)\n",
    "            self.coeffs[c1] += coeffs[0]*np.random.choice([-1, 1])\n",
    "        else:\n",
    "            c2 = np.random.choice(len(self.pows), 1)[0]\n",
    "            self.pows[c2] += np.random.choice([-1, 1])\n",
    "#         print(self, 'after', id(self))\n",
    "#         c2 = np.random.choice(len(self.pows), 1)[0]\n",
    "#         c1 = np.random.choice(len(self.coeffs), 1)[0]\n",
    "#         self.coeffs[c1] += coeffs[0]*np.random.normal(0, 1)\n",
    "# #         self.pows[c2] += coeffs[1]*np.random.normal(0, 1)\n",
    "#         self.pows[c2] += np.random.choice([-1, 1])\n",
    "        \n",
    "    def mate(self, individual):\n",
    "        choice = np.random.randint(low=0, high=len(self.coeffs))\n",
    "        c_switch = self.coeffs[choice]\n",
    "        p_switch = self.pows[choice]\n",
    "        if choice != 0:  \n",
    "            o_switch = self.operators[choice-1]\n",
    "        \n",
    "        #switch coeffs\n",
    "        self.coeffs[choice] = individual.coeffs[choice]\n",
    "        self.pows[choice] = individual.pows[choice]\n",
    "        if choice != 0:\n",
    "            self.operators[choice-1] = individual.operators[choice-1]\n",
    "        individual.coeffs[choice] = c_switch\n",
    "        individual.pows[choice] = p_switch\n",
    "        if choice != 0:\n",
    "            individual.operators[choice-1] = o_switch\n",
    "            \n",
    "        #print(\"choice = \", choice)\n",
    "    #uses MSE    \n",
    "    def calc_fitness(self, data, y, error_func='mse'):\n",
    "        f = 0\n",
    "        for i in range(len(data)):\n",
    "            if error_func=='mse':\n",
    "                err = (y[i]-self.calc_row(data[i]))**2\n",
    "            else:\n",
    "                err = np.abs(y[i]-self.calc_row(data[i]))\n",
    "            f += err\n",
    "        #mse = f/len(data)\n",
    "        #self.fitness = 1000*(1/(1+mse))\n",
    "        mean_error = f/len(data)\n",
    "        self.fitness = 1000*(1/(1+mean_error))\n",
    "        return self.fitness\n",
    "    \n",
    "    def get_fitness(self):\n",
    "        return self.fitness\n",
    "    \n",
    "    def set_fitness(self, f):\n",
    "        self.fitness = f\n",
    "    \n",
    "    def calc_row(self, row):\n",
    "        s = \"\"\n",
    "        for i in range(self.num_vars):\n",
    "            if row[i] == 0:\n",
    "                row[i] = row[i] + 0.01\n",
    "            if i != self.num_vars - 1:\n",
    "                s += \"{0}*({1})**{2} {3} \".format(self.coeffs[i], row[i], self.pows[i], self.operators[i])\n",
    "            else:\n",
    "                s += \"{0}*({1})**{2} \".format(self.coeffs[i], row[i], self.pows[i])\n",
    "#             print(s)\n",
    "        return eval(str(s))\n",
    "\n",
    "    def get_coeffs(self):\n",
    "        return self.coeffs, self.pows, self.operators\n",
    "    \n",
    "    def get_copy(self):\n",
    "#         new = Individual(self.coeffs, self.pows, self.operators)\n",
    "#         new.set_fitness(self.fitness)\n",
    "#         print(self.coeffs, self.pows, self.operators)\n",
    "        return copy.deepcopy(self)\n",
    "    \n",
    "    def __repr__(self):\n",
    "        s = \"\"\n",
    "        for i in range(self.num_vars):\n",
    "            if i != self.num_vars - 1:\n",
    "                s += \"{0}*(x{1})**{2} {3} \".format(self.coeffs[i], i, self.pows[i], self.operators[i])\n",
    "            else:\n",
    "                s += \"{0}*(x{1})**{2} \".format(self.coeffs[i], i, self.pows[i])\n",
    "        return s"
   ]
  },
  {
   "cell_type": "code",
   "execution_count": 435,
   "metadata": {},
   "outputs": [],
   "source": [
    "def sigmoid_gyaku(x):\n",
    "    return 2/(1+np.exp(x))\n",
    "    "
   ]
  },
  {
   "cell_type": "code",
   "execution_count": 436,
   "metadata": {},
   "outputs": [],
   "source": [
    "for i in range(10):\n",
    "    A = Individual([1, 1], [2, 3], ['+'])\n",
    "    B = Individual([2, 4], [6, 8], ['*'])\n",
    "    A.mate(B)\n",
    "\n",
    "    #A.calc_row([1, 3])\n",
    "    A.calc_fitness(data, y)\n",
    "    \n",
    "\n",
    "# s = A\n",
    "# str(s)\n",
    "# eval(str(s))"
   ]
  },
  {
   "cell_type": "code",
   "execution_count": 437,
   "metadata": {},
   "outputs": [],
   "source": [
    "a = np.array(np.random.uniform(low=-1.0, high=1.0, size=100))\n",
    "b = np.array(np.random.uniform(low=-1.0, high=1.0, size=100))\n",
    "x = np.linspace(-10, 10, 100)\n",
    "y = x**3"
   ]
  },
  {
   "cell_type": "code",
   "execution_count": 438,
   "metadata": {},
   "outputs": [
    {
     "data": {
      "text/plain": [
       "<matplotlib.collections.PathCollection at 0x132a8f6c9c8>"
      ]
     },
     "execution_count": 438,
     "metadata": {},
     "output_type": "execute_result"
    },
    {
     "data": {
      "image/png": "[encoded data removed]",
      "text/plain": [
       "<Figure size 432x288 with 1 Axes>"
      ]
     },
     "metadata": {
      "needs_background": "light"
     },
     "output_type": "display_data"
    }
   ],
   "source": [
    "plt.scatter(x, y)"
   ]
  },
  {
   "cell_type": "code",
   "execution_count": 439,
   "metadata": {},
   "outputs": [],
   "source": [
    "a = [[2],[3]]\n",
    "d = Individual(*a, [])"
   ]
  },
  {
   "cell_type": "code",
   "execution_count": 440,
   "metadata": {},
   "outputs": [],
   "source": [
    "individuals = generate_individuals(100, 1, -5, 5, -5, 5, ['+','-','/','*'])\n"
   ]
  },
  {
   "cell_type": "code",
   "execution_count": 441,
   "metadata": {},
   "outputs": [],
   "source": [
    "# def generate_individuals(n, minvals, maxvals, operators, classname):\n",
    "#     if len(minvals) != len(maxvals):\n",
    "#         raise ValueError(\"len(minvals) != len(maxvals)\")\n",
    "#     if len(operators) != len(minvals) - 1:\n",
    "#         raise ValueError(\"len(operators) != len(maxvals) - 1\")\n",
    "#     indiv = []\n",
    "#     for i in range(n):\n",
    "#         l = [[np.random.randint(low=minvals[j], high=maxvals[j]) for _ in range(len(minvals))] for j in range(len(minvals))]\n",
    "#         a = np.random.choice(operators, len(minvals)-1)\n",
    "#         print(*l, a)\n",
    "#         indiv.append(classname(*l, a))\n",
    "#     return indiv"
   ]
  },
  {
   "cell_type": "code",
   "execution_count": 442,
   "metadata": {},
   "outputs": [],
   "source": [
    "def generate_individuals(n, num_vars, coeff_min, coeff_max, exp_min, exp_max, operators):\n",
    "    indiv = []\n",
    "    if num_vars > 1 and len(operators) == 0:\n",
    "        raise ValueError(\"no operators\")\n",
    "    for i in range(n):\n",
    "        l = [np.random.uniform(low=coeff_min, high=coeff_max) for _ in range(num_vars)]\n",
    "        a = [np.random.randint(low=exp_min, high=exp_max) for _ in range(num_vars)]\n",
    "        m = np.random.choice(operators, len(l)-1)\n",
    "        indiv.append(Individual(l, a, m))\n",
    "    return indiv"
   ]
  },
  {
   "cell_type": "code",
   "execution_count": 443,
   "metadata": {},
   "outputs": [
    {
     "name": "stderr",
     "output_type": "stream",
     "text": [
      "\n",
      "\n",
      "\n",
      "\n",
      "\n",
      "  0%|                                                                                           | 0/10 [00:00<?, ?it/s]"
     ]
    },
    {
     "name": "stdout",
     "output_type": "stream",
     "text": [
      "1*(x0)**3 \n"
     ]
    },
    {
     "name": "stderr",
     "output_type": "stream",
     "text": [
      "\n",
      "\n",
      "\n",
      "\n",
      "\n",
      " 10%|████████▎                                                                          | 1/10 [00:00<00:01,  7.27it/s]"
     ]
    },
    {
     "name": "stdout",
     "output_type": "stream",
     "text": [
      "1*(x0)**3 \n"
     ]
    },
    {
     "name": "stderr",
     "output_type": "stream",
     "text": [
      "\n",
      "\n",
      "\n",
      "\n",
      "\n",
      " 20%|████████████████▌                                                                  | 2/10 [00:00<00:01,  7.02it/s]"
     ]
    },
    {
     "name": "stdout",
     "output_type": "stream",
     "text": [
      "1*(x0)**3 \n"
     ]
    },
    {
     "name": "stderr",
     "output_type": "stream",
     "text": [
      "\n",
      "\n",
      "\n",
      "\n",
      "\n",
      " 30%|████████████████████████▉                                                          | 3/10 [00:00<00:01,  6.68it/s]"
     ]
    },
    {
     "name": "stdout",
     "output_type": "stream",
     "text": [
      "1*(x0)**3 \n"
     ]
    },
    {
     "name": "stderr",
     "output_type": "stream",
     "text": [
      "\n",
      "\n",
      "\n",
      "\n",
      "\n",
      " 40%|█████████████████████████████████▏                                                 | 4/10 [00:00<00:00,  6.79it/s]"
     ]
    },
    {
     "name": "stdout",
     "output_type": "stream",
     "text": [
      "1*(x0)**3 \n"
     ]
    },
    {
     "name": "stderr",
     "output_type": "stream",
     "text": [
      "\n",
      "\n",
      "\n",
      "\n",
      "\n",
      " 50%|█████████████████████████████████████████▌                                         | 5/10 [00:00<00:00,  6.53it/s]"
     ]
    },
    {
     "name": "stdout",
     "output_type": "stream",
     "text": [
      "1*(x0)**3 \n"
     ]
    },
    {
     "name": "stderr",
     "output_type": "stream",
     "text": [
      "\n",
      "\n",
      "\n",
      "\n",
      "\n",
      " 60%|█████████████████████████████████████████████████▊                                 | 6/10 [00:00<00:00,  6.44it/s]"
     ]
    },
    {
     "name": "stdout",
     "output_type": "stream",
     "text": [
      "1*(x0)**3 \n"
     ]
    },
    {
     "name": "stderr",
     "output_type": "stream",
     "text": [
      "\n",
      "\n",
      "\n",
      "\n",
      "\n",
      " 70%|██████████████████████████████████████████████████████████                         | 7/10 [00:01<00:00,  6.35it/s]"
     ]
    },
    {
     "name": "stdout",
     "output_type": "stream",
     "text": [
      "1*(x0)**3 \n"
     ]
    },
    {
     "name": "stderr",
     "output_type": "stream",
     "text": [
      "\n",
      "\n",
      "\n",
      "\n",
      "\n",
      " 80%|██████████████████████████████████████████████████████████████████▍                | 8/10 [00:01<00:00,  6.25it/s]"
     ]
    },
    {
     "name": "stdout",
     "output_type": "stream",
     "text": [
      "1*(x0)**3 \n"
     ]
    },
    {
     "name": "stderr",
     "output_type": "stream",
     "text": [
      "\n",
      "\n",
      "\n",
      "\n",
      "\n",
      " 90%|██████████████████████████████████████████████████████████████████████████▋        | 9/10 [00:01<00:00,  6.15it/s]"
     ]
    },
    {
     "name": "stdout",
     "output_type": "stream",
     "text": [
      "1*(x0)**3 \n"
     ]
    },
    {
     "name": "stderr",
     "output_type": "stream",
     "text": [
      "\n",
      "\n",
      "\n",
      "\n",
      "\n",
      "100%|██████████████████████████████████████████████████████████████████████████████████| 10/10 [00:01<00:00,  6.31it/s]\n"
     ]
    }
   ],
   "source": [
    "A = Individual([2], [3], [])\n",
    "B = Individual([3], [3], [])\n",
    "C = Individual([4], [3], [])\n",
    "\n",
    "D = Individual([1], [2], [])\n",
    "E = Individual([4], [2], [])\n",
    "F = Individual([1], [3], [])\n",
    "\n",
    "# A = Individual([1, 1, 1], [2, 3, 2], ['+'])\n",
    "# B = Individual([2, 4, 5], [6, 8, 3], ['*'])\n",
    "# C = Individual([1, 1, 2], [2, 3, 3], ['+'])\n",
    "# D = Individual([2, 4, 1], [6, 8, 7], ['*'])\n",
    "# E = Individual([1, 1, 2], [2, 3, 6], ['+'])\n",
    "# F = Individual([2, 4, 2], [6, 8, 2], ['*'])\n",
    "# dd = Population([A, B, C, D, E, F], data, y)\n",
    "x = np.linspace(-1000, 1000, 100)\n",
    "y = x**3\n",
    "xarr = np.array([[i] for i in x])\n",
    "d = Population([A, B, C, D, E, F], xarr, y)\n",
    "\n",
    "fitnesses = []\n",
    "x = []\n",
    "for i in tqdm(range(10)):\n",
    "    d.cycle()\n",
    "    best = d.get_best_func()\n",
    "    fitnesses.append(best.get_fitness())\n",
    "    print(best)\n",
    "    x.append(i)"
   ]
  },
  {
   "cell_type": "code",
   "execution_count": 12,
   "metadata": {},
   "outputs": [
    {
     "name": "stdout",
     "output_type": "stream",
     "text": [
      "[[-1.000e+02 -1.000e+02 -9.960e+06]\n",
      " [-5.000e+01 -5.000e+01 -1.240e+06]\n",
      " [ 0.000e+00  0.000e+00  0.000e+00]\n",
      " [ 5.000e+01  5.000e+01  1.260e+06]\n",
      " [ 1.000e+02  1.000e+02  1.004e+07]]\n"
     ]
    }
   ],
   "source": [
    "import numpy as np\n",
    "import csv\n",
    "def add_noise(y, mu, std):\n",
    "    noise = np.random.normal(mu, std, y.shape)\n",
    "    return y + noise\n",
    "\n",
    "x1 = np.linspace(-100, 100, 5)\n",
    "x2 = np.linspace(-100, 100, 5)\n",
    "\n",
    "y = 10*x1**3 + 4*x2**2\n",
    "data = np.stack([x1, x2, y], axis=1)\n",
    "# data = np.array([[i] for i in x])\n",
    "\n",
    "# a = np.linspace(-100, 100, 20)\n",
    "# b = np.linspace(-80, 80, 20)\n",
    "# c = np.linspace(-40, 40, 20)\n",
    "\n",
    "# data = np.stack([a, b, c], axis=1)\n",
    "\n",
    "# y = add_noise(1.5*a + 2.0*b + 3.5*c, 0, 0.1)\n",
    "\n",
    "\n",
    "#add noise\n",
    "\n",
    "import pickle\n",
    "\n",
    "file = open('test', 'wb')\n",
    "pickle.dump(data, file)\n",
    "file.close()\n",
    "\n",
    "# open a file, where you stored the pickled data\n",
    "file = open('test', 'rb')\n",
    "\n",
    "# dump information to that file\n",
    "data = pickle.load(file)\n",
    "\n",
    "# close the file\n",
    "file.close()\n",
    "print(data)"
   ]
  },
  {
   "cell_type": "code",
   "execution_count": 451,
   "metadata": {
    "scrolled": true
   },
   "outputs": [],
   "source": [
    "individuals = generate_individuals(2000, 2, -10, 10, 0, 4, ['+','*'])\n",
    "d = Population(individuals, data, y)"
   ]
  },
  {
   "cell_type": "code",
   "execution_count": 446,
   "metadata": {},
   "outputs": [],
   "source": [
    "from tqdm import tqdm"
   ]
  },
  {
   "cell_type": "code",
   "execution_count": 447,
   "metadata": {
    "scrolled": true
   },
   "outputs": [
    {
     "name": "stderr",
     "output_type": "stream",
     "text": [
      "\n",
      "\n",
      "\n",
      "\n",
      "\n",
      "  0%|                                                                                          | 0/200 [00:00<?, ?it/s]"
     ]
    },
    {
     "name": "stdout",
     "output_type": "stream",
     "text": [
      "8.625879653918108*(x0)**1 + 10.017146822507994*(x1)**3 \n"
     ]
    },
    {
     "name": "stderr",
     "output_type": "stream",
     "text": [
      "\n",
      "\n",
      "\n",
      "\n",
      "\n",
      "  0%|▍                                                                                 | 1/200 [00:00<01:05,  3.05it/s]"
     ]
    },
    {
     "name": "stdout",
     "output_type": "stream",
     "text": [
      "1.0756887422869905*(x0)**2 + 10.017146822507994*(x1)**3 \n"
     ]
    },
    {
     "name": "stderr",
     "output_type": "stream",
     "text": [
      "\n",
      "\n",
      "\n",
      "\n",
      "\n",
      "  1%|▊                                                                                 | 2/200 [00:00<01:02,  3.18it/s]"
     ]
    },
    {
     "name": "stdout",
     "output_type": "stream",
     "text": [
      "5.517618361133529*(x0)**2 + 10.017146822507994*(x1)**3 \n"
     ]
    },
    {
     "name": "stderr",
     "output_type": "stream",
     "text": [
      "\n",
      "\n",
      "\n",
      "\n",
      "\n",
      "  2%|█▏                                                                                | 3/200 [00:00<00:59,  3.34it/s]"
     ]
    },
    {
     "name": "stdout",
     "output_type": "stream",
     "text": [
      "5.517618361133529*(x0)**2 + 10.017146822507994*(x1)**3 \n"
     ]
    },
    {
     "name": "stderr",
     "output_type": "stream",
     "text": [
      "\n",
      "\n",
      "\n",
      "\n",
      "\n",
      "  2%|█▋                                                                                | 4/200 [00:01<00:59,  3.31it/s]"
     ]
    },
    {
     "name": "stdout",
     "output_type": "stream",
     "text": [
      "5.517618361133529*(x0)**2 + 10.017146822507994*(x1)**3 \n"
     ]
    },
    {
     "name": "stderr",
     "output_type": "stream",
     "text": [
      "\n",
      "\n",
      "\n",
      "\n",
      "\n",
      "  2%|██                                                                                | 5/200 [00:01<01:01,  3.19it/s]"
     ]
    },
    {
     "name": "stdout",
     "output_type": "stream",
     "text": [
      "5.41761836216897*(x0)**2 + 10.017146822507994*(x1)**3 \n"
     ]
    },
    {
     "name": "stderr",
     "output_type": "stream",
     "text": [
      "\n",
      "\n",
      "\n",
      "\n",
      "\n",
      "  3%|██▍                                                                               | 6/200 [00:01<01:01,  3.17it/s]"
     ]
    },
    {
     "name": "stdout",
     "output_type": "stream",
     "text": [
      "5.41761836216897*(x0)**2 + 10.017146822507994*(x1)**3 \n"
     ]
    },
    {
     "name": "stderr",
     "output_type": "stream",
     "text": [
      "\n",
      "\n",
      "\n",
      "\n",
      "\n",
      "  4%|██▊                                                                               | 7/200 [00:02<01:01,  3.16it/s]"
     ]
    },
    {
     "name": "stdout",
     "output_type": "stream",
     "text": [
      "5.317618363259592*(x0)**2 + 10.017146822507994*(x1)**3 \n"
     ]
    },
    {
     "name": "stderr",
     "output_type": "stream",
     "text": [
      "\n",
      "\n",
      "\n",
      "\n",
      "\n",
      "  4%|███▎                                                                              | 8/200 [00:02<01:02,  3.08it/s]"
     ]
    },
    {
     "name": "stdout",
     "output_type": "stream",
     "text": [
      "5.317618363204412*(x0)**2 + 10.017146822507994*(x1)**3 \n"
     ]
    },
    {
     "name": "stderr",
     "output_type": "stream",
     "text": [
      "\n",
      "\n",
      "\n",
      "\n",
      "\n",
      "  4%|███▋                                                                              | 9/200 [00:02<01:04,  2.95it/s]"
     ]
    },
    {
     "name": "stdout",
     "output_type": "stream",
     "text": [
      "5.317618363204412*(x0)**2 + 10.017146822507994*(x1)**3 \n"
     ]
    },
    {
     "name": "stderr",
     "output_type": "stream",
     "text": [
      "\n",
      "\n",
      "\n",
      "\n",
      "\n",
      "  5%|████                                                                             | 10/200 [00:03<01:03,  2.99it/s]"
     ]
    },
    {
     "name": "stdout",
     "output_type": "stream",
     "text": [
      "5.217618364295033*(x0)**2 + 10.017146822507994*(x1)**3 \n"
     ]
    },
    {
     "name": "stderr",
     "output_type": "stream",
     "text": [
      "\n",
      "\n",
      "\n",
      "\n",
      "\n",
      "  6%|████▍                                                                            | 11/200 [00:03<01:00,  3.13it/s]"
     ]
    },
    {
     "name": "stdout",
     "output_type": "stream",
     "text": [
      "5.217618364295033*(x0)**2 + 10.017146822507994*(x1)**3 \n"
     ]
    },
    {
     "name": "stderr",
     "output_type": "stream",
     "text": [
      "\n",
      "\n",
      "\n",
      "\n",
      "\n",
      "  6%|████▊                                                                            | 12/200 [00:03<01:01,  3.07it/s]"
     ]
    },
    {
     "name": "stdout",
     "output_type": "stream",
     "text": [
      "5.217618364295033*(x0)**2 + 10.017146821990508*(x1)**3 \n"
     ]
    },
    {
     "name": "stderr",
     "output_type": "stream",
     "text": [
      "\n",
      "\n",
      "\n",
      "\n",
      "\n",
      "  6%|█████▎                                                                           | 13/200 [00:04<01:00,  3.07it/s]"
     ]
    },
    {
     "name": "stdout",
     "output_type": "stream",
     "text": [
      "5.117618366595708*(x0)**2 + 10.017146822507994*(x1)**3 \n"
     ]
    },
    {
     "name": "stderr",
     "output_type": "stream",
     "text": [
      "\n",
      "\n",
      "\n",
      "\n",
      "\n",
      "  7%|█████▋                                                                           | 14/200 [00:04<01:01,  3.03it/s]"
     ]
    },
    {
     "name": "stdout",
     "output_type": "stream",
     "text": [
      "5.117618366595708*(x0)**2 + 10.017146822507994*(x1)**3 \n"
     ]
    },
    {
     "name": "stderr",
     "output_type": "stream",
     "text": [
      "\n",
      "\n",
      "\n",
      "\n",
      "\n",
      "  8%|██████                                                                           | 15/200 [00:04<01:01,  3.03it/s]"
     ]
    },
    {
     "name": "stdout",
     "output_type": "stream",
     "text": [
      "5.117618366595708*(x0)**2 + 10.017146822507994*(x1)**3 \n"
     ]
    },
    {
     "name": "stderr",
     "output_type": "stream",
     "text": [
      "\n",
      "\n",
      "\n",
      "\n",
      "\n",
      "  8%|██████▍                                                                          | 16/200 [00:05<01:01,  2.99it/s]"
     ]
    },
    {
     "name": "stdout",
     "output_type": "stream",
     "text": [
      "5.117618366595708*(x0)**2 + 10.017146822507994*(x1)**3 \n"
     ]
    },
    {
     "name": "stderr",
     "output_type": "stream",
     "text": [
      "\n",
      "\n",
      "\n",
      "\n",
      "\n",
      "  8%|██████▉                                                                          | 17/200 [00:05<00:57,  3.19it/s]"
     ]
    },
    {
     "name": "stdout",
     "output_type": "stream",
     "text": [
      "5.117618366595708*(x0)**2 + 10.017146822507994*(x1)**3 \n"
     ]
    },
    {
     "name": "stderr",
     "output_type": "stream",
     "text": [
      "\n",
      "\n",
      "\n",
      "\n",
      "\n",
      "  9%|███████▎                                                                         | 18/200 [00:05<00:58,  3.10it/s]"
     ]
    },
    {
     "name": "stdout",
     "output_type": "stream",
     "text": [
      "5.117618367860941*(x0)**2 + 10.017146821990508*(x1)**3 \n"
     ]
    },
    {
     "name": "stderr",
     "output_type": "stream",
     "text": [
      "\n",
      "\n",
      "\n",
      "\n",
      "\n",
      " 10%|███████▋                                                                         | 19/200 [00:06<00:59,  3.04it/s]"
     ]
    },
    {
     "name": "stdout",
     "output_type": "stream",
     "text": [
      "5.0176183690364855*(x0)**2 + 10.017146822507994*(x1)**3 \n"
     ]
    },
    {
     "name": "stderr",
     "output_type": "stream",
     "text": [
      "\n",
      "\n",
      "\n",
      "\n",
      "\n",
      " 10%|████████                                                                         | 20/200 [00:06<00:56,  3.19it/s]"
     ]
    },
    {
     "name": "stdout",
     "output_type": "stream",
     "text": [
      "5.0176183690364855*(x0)**2 + 10.017146822507994*(x1)**3 \n"
     ]
    },
    {
     "name": "stderr",
     "output_type": "stream",
     "text": [
      "\n",
      "\n",
      "\n",
      "\n",
      "\n",
      " 10%|████████▌                                                                        | 21/200 [00:06<00:53,  3.32it/s]"
     ]
    },
    {
     "name": "stdout",
     "output_type": "stream",
     "text": [
      "5.0176183690364855*(x0)**2 + 10.017146822507994*(x1)**3 \n"
     ]
    },
    {
     "name": "stderr",
     "output_type": "stream",
     "text": [
      "\n",
      "\n",
      "\n",
      "\n",
      "\n",
      " 11%|████████▉                                                                        | 22/200 [00:07<00:56,  3.17it/s]"
     ]
    },
    {
     "name": "stdout",
     "output_type": "stream",
     "text": [
      "5.0176183690364855*(x0)**2 + 10.017146822507994*(x1)**3 \n"
     ]
    },
    {
     "name": "stderr",
     "output_type": "stream",
     "text": [
      "\n",
      "\n",
      "\n",
      "\n",
      "\n",
      " 12%|█████████▎                                                                       | 23/200 [00:07<00:53,  3.29it/s]"
     ]
    },
    {
     "name": "stdout",
     "output_type": "stream",
     "text": [
      "4.917618371477263*(x0)**2 + 10.017146822507994*(x1)**3 \n"
     ]
    },
    {
     "name": "stderr",
     "output_type": "stream",
     "text": [
      "\n",
      "\n",
      "\n",
      "\n",
      "\n",
      " 12%|█████████▋                                                                       | 24/200 [00:07<00:55,  3.17it/s]"
     ]
    },
    {
     "name": "stdout",
     "output_type": "stream",
     "text": [
      "4.917618371477263*(x0)**2 + 10.017146822507994*(x1)**3 \n"
     ]
    },
    {
     "name": "stderr",
     "output_type": "stream",
     "text": [
      "\n",
      "\n",
      "\n",
      "\n",
      "\n",
      " 12%|██████████▏                                                                      | 25/200 [00:07<00:53,  3.27it/s]"
     ]
    },
    {
     "name": "stdout",
     "output_type": "stream",
     "text": [
      "4.917618371477263*(x0)**2 + 10.017146822507994*(x1)**3 \n"
     ]
    },
    {
     "name": "stderr",
     "output_type": "stream",
     "text": [
      "\n",
      "\n",
      "\n",
      "\n",
      "\n",
      " 13%|██████████▌                                                                      | 26/200 [00:08<00:52,  3.32it/s]"
     ]
    },
    {
     "name": "stdout",
     "output_type": "stream",
     "text": [
      "4.917618371477263*(x0)**2 + 10.017146822507994*(x1)**3 \n"
     ]
    },
    {
     "name": "stderr",
     "output_type": "stream",
     "text": [
      "\n",
      "\n",
      "\n",
      "\n",
      "\n",
      " 14%|██████████▉                                                                      | 27/200 [00:08<00:56,  3.04it/s]"
     ]
    },
    {
     "name": "stdout",
     "output_type": "stream",
     "text": [
      "4.917618371477263*(x0)**2 + 10.017146822507994*(x1)**3 \n"
     ]
    },
    {
     "name": "stderr",
     "output_type": "stream",
     "text": [
      "\n",
      "\n",
      "\n",
      "\n",
      "\n",
      " 14%|███████████▎                                                                     | 28/200 [00:08<00:54,  3.15it/s]"
     ]
    },
    {
     "name": "stdout",
     "output_type": "stream",
     "text": [
      "4.917618371477263*(x0)**2 + 10.017146822507994*(x1)**3 \n"
     ]
    },
    {
     "name": "stderr",
     "output_type": "stream",
     "text": [
      "\n",
      "\n",
      "\n",
      "\n",
      "\n",
      " 14%|███████████▋                                                                     | 29/200 [00:09<00:53,  3.20it/s]"
     ]
    },
    {
     "name": "stdout",
     "output_type": "stream",
     "text": [
      "4.917618371477263*(x0)**2 + 10.017146822507994*(x1)**3 \n"
     ]
    },
    {
     "name": "stderr",
     "output_type": "stream",
     "text": [
      "\n",
      "\n",
      "\n",
      "\n",
      "\n",
      " 15%|████████████▏                                                                    | 30/200 [00:09<00:52,  3.25it/s]"
     ]
    },
    {
     "name": "stdout",
     "output_type": "stream",
     "text": [
      "4.917618371477263*(x0)**2 + 10.017146822507994*(x1)**3 \n"
     ]
    },
    {
     "name": "stderr",
     "output_type": "stream",
     "text": [
      "\n",
      "\n",
      "\n",
      "\n",
      "\n",
      " 16%|████████████▌                                                                    | 31/200 [00:09<00:53,  3.19it/s]"
     ]
    },
    {
     "name": "stdout",
     "output_type": "stream",
     "text": [
      "4.81761837406488*(x0)**2 + 10.017146822507994*(x1)**3 \n"
     ]
    },
    {
     "name": "stderr",
     "output_type": "stream",
     "text": [
      "\n",
      "\n",
      "\n",
      "\n",
      "\n",
      " 16%|████████████▉                                                                    | 32/200 [00:10<00:50,  3.31it/s]"
     ]
    },
    {
     "name": "stdout",
     "output_type": "stream",
     "text": [
      "4.81761837406488*(x0)**2 + 10.017146822507994*(x1)**3 \n"
     ]
    },
    {
     "name": "stderr",
     "output_type": "stream",
     "text": [
      "\n",
      "\n",
      "\n",
      "\n",
      "\n",
      " 16%|█████████████▎                                                                   | 33/200 [00:10<00:52,  3.18it/s]"
     ]
    },
    {
     "name": "stdout",
     "output_type": "stream",
     "text": [
      "4.81761837406488*(x0)**2 + 10.017146822507994*(x1)**3 \n"
     ]
    },
    {
     "name": "stderr",
     "output_type": "stream",
     "text": [
      "\n",
      "\n",
      "\n",
      "\n",
      "\n",
      " 17%|█████████████▊                                                                   | 34/200 [00:10<00:50,  3.27it/s]"
     ]
    },
    {
     "name": "stdout",
     "output_type": "stream",
     "text": [
      "4.717618376962951*(x0)**2 + 10.017146822507994*(x1)**3 \n"
     ]
    },
    {
     "name": "stderr",
     "output_type": "stream",
     "text": [
      "\n",
      "\n",
      "\n",
      "\n",
      "\n",
      " 18%|██████████████▏                                                                  | 35/200 [00:11<00:48,  3.37it/s]"
     ]
    },
    {
     "name": "stdout",
     "output_type": "stream",
     "text": [
      "4.717618376962951*(x0)**2 + 10.017146822507994*(x1)**3 \n"
     ]
    },
    {
     "name": "stderr",
     "output_type": "stream",
     "text": [
      "\n",
      "\n",
      "\n",
      "\n",
      "\n",
      " 18%|██████████████▌                                                                  | 36/200 [00:11<00:51,  3.20it/s]"
     ]
    },
    {
     "name": "stdout",
     "output_type": "stream",
     "text": [
      "4.717618376962951*(x0)**2 + 10.017146822507994*(x1)**3 \n"
     ]
    },
    {
     "name": "stderr",
     "output_type": "stream",
     "text": [
      "\n",
      "\n",
      "\n",
      "\n",
      "\n",
      " 18%|██████████████▉                                                                  | 37/200 [00:11<00:49,  3.29it/s]"
     ]
    },
    {
     "name": "stdout",
     "output_type": "stream",
     "text": [
      "4.717618376962951*(x0)**2 + 10.017146822507994*(x1)**3 \n"
     ]
    },
    {
     "name": "stderr",
     "output_type": "stream",
     "text": [
      "\n",
      "\n",
      "\n",
      "\n",
      "\n",
      " 19%|███████████████▍                                                                 | 38/200 [00:11<00:51,  3.15it/s]"
     ]
    },
    {
     "name": "stdout",
     "output_type": "stream",
     "text": [
      "4.717618376962951*(x0)**2 + 10.017146822507994*(x1)**3 \n"
     ]
    },
    {
     "name": "stderr",
     "output_type": "stream",
     "text": [
      "\n",
      "\n",
      "\n",
      "\n",
      "\n",
      " 20%|███████████████▊                                                                 | 39/200 [00:12<00:51,  3.14it/s]"
     ]
    },
    {
     "name": "stdout",
     "output_type": "stream",
     "text": [
      "4.717618376962951*(x0)**2 + 10.017146822507994*(x1)**3 \n"
     ]
    },
    {
     "name": "stderr",
     "output_type": "stream",
     "text": [
      "\n",
      "\n",
      "\n",
      "\n",
      "\n",
      " 20%|████████████████▏                                                                | 40/200 [00:12<00:50,  3.14it/s]"
     ]
    },
    {
     "name": "stdout",
     "output_type": "stream",
     "text": [
      "4.717618376962951*(x0)**2 + 10.017146822507994*(x1)**3 \n"
     ]
    },
    {
     "name": "stderr",
     "output_type": "stream",
     "text": [
      "\n",
      "\n",
      "\n",
      "\n",
      "\n",
      " 20%|████████████████▌                                                                | 41/200 [00:12<00:50,  3.17it/s]"
     ]
    },
    {
     "name": "stdout",
     "output_type": "stream",
     "text": [
      "4.717618376962951*(x0)**2 + 10.017146822507994*(x1)**3 \n"
     ]
    },
    {
     "name": "stderr",
     "output_type": "stream",
     "text": [
      "\n",
      "\n",
      "\n",
      "\n",
      "\n",
      " 21%|█████████████████                                                                | 42/200 [00:13<00:51,  3.07it/s]"
     ]
    },
    {
     "name": "stdout",
     "output_type": "stream",
     "text": [
      "4.717618376962951*(x0)**2 + 10.017146822507994*(x1)**3 \n"
     ]
    },
    {
     "name": "stderr",
     "output_type": "stream",
     "text": [
      "\n",
      "\n",
      "\n",
      "\n",
      "\n",
      " 22%|█████████████████▍                                                               | 43/200 [00:13<00:50,  3.09it/s]"
     ]
    },
    {
     "name": "stdout",
     "output_type": "stream",
     "text": [
      "4.717618376962951*(x0)**2 + 10.017146822507994*(x1)**3 \n"
     ]
    },
    {
     "name": "stderr",
     "output_type": "stream",
     "text": [
      "\n",
      "\n",
      "\n",
      "\n",
      "\n",
      " 22%|█████████████████▊                                                               | 44/200 [00:13<00:51,  3.01it/s]"
     ]
    },
    {
     "name": "stdout",
     "output_type": "stream",
     "text": [
      "4.617618379703379*(x0)**2 + 10.017146822507994*(x1)**3 \n"
     ]
    },
    {
     "name": "stderr",
     "output_type": "stream",
     "text": [
      "\n",
      "\n",
      "\n",
      "\n",
      "\n",
      " 22%|██████████████████▏                                                              | 45/200 [00:14<00:48,  3.18it/s]"
     ]
    },
    {
     "name": "stdout",
     "output_type": "stream",
     "text": [
      "4.617618379703379*(x0)**2 + 10.017146822507994*(x1)**3 \n"
     ]
    },
    {
     "name": "stderr",
     "output_type": "stream",
     "text": [
      "\n",
      "\n",
      "\n",
      "\n",
      "\n",
      " 23%|██████████████████▋                                                              | 46/200 [00:14<00:54,  2.81it/s]"
     ]
    },
    {
     "name": "stdout",
     "output_type": "stream",
     "text": [
      "4.617618379703379*(x0)**2 + 10.017146822507994*(x1)**3 \n"
     ]
    },
    {
     "name": "stderr",
     "output_type": "stream",
     "text": [
      "\n",
      "\n",
      "\n",
      "\n",
      "\n",
      " 24%|███████████████████                                                              | 47/200 [00:14<00:50,  3.03it/s]"
     ]
    },
    {
     "name": "stdout",
     "output_type": "stream",
     "text": [
      "4.617618379703379*(x0)**2 + 10.017146822507994*(x1)**3 \n"
     ]
    },
    {
     "name": "stderr",
     "output_type": "stream",
     "text": [
      "\n",
      "\n",
      "\n",
      "\n",
      "\n",
      " 24%|███████████████████▍                                                             | 48/200 [00:15<00:51,  2.96it/s]"
     ]
    },
    {
     "name": "stdout",
     "output_type": "stream",
     "text": [
      "4.617618379703379*(x0)**2 + 10.017146822507994*(x1)**3 \n"
     ]
    },
    {
     "name": "stderr",
     "output_type": "stream",
     "text": [
      "\n",
      "\n",
      "\n",
      "\n",
      "\n",
      " 24%|███████████████████▊                                                             | 49/200 [00:15<00:49,  3.05it/s]"
     ]
    },
    {
     "name": "stdout",
     "output_type": "stream",
     "text": [
      "4.517618383085088*(x0)**2 + 10.017146822507994*(x1)**3 \n"
     ]
    },
    {
     "name": "stderr",
     "output_type": "stream",
     "text": [
      "\n",
      "\n",
      "\n",
      "\n",
      "\n",
      " 25%|████████████████████▎                                                            | 50/200 [00:15<00:49,  3.03it/s]"
     ]
    },
    {
     "name": "stdout",
     "output_type": "stream",
     "text": [
      "4.517618383085088*(x0)**2 + 10.017146822507994*(x1)**3 \n"
     ]
    },
    {
     "name": "stderr",
     "output_type": "stream",
     "text": [
      "\n",
      "\n",
      "\n",
      "\n",
      "\n",
      " 26%|████████████████████▋                                                            | 51/200 [00:16<00:49,  2.99it/s]"
     ]
    },
    {
     "name": "stdout",
     "output_type": "stream",
     "text": [
      "4.517618383085088*(x0)**2 + 10.017146822507994*(x1)**3 \n"
     ]
    },
    {
     "name": "stderr",
     "output_type": "stream",
     "text": [
      "\n",
      "\n",
      "\n",
      "\n",
      "\n",
      " 26%|█████████████████████                                                            | 52/200 [00:16<00:47,  3.14it/s]"
     ]
    },
    {
     "name": "stdout",
     "output_type": "stream",
     "text": [
      "4.517618383085088*(x0)**2 + 10.017146822507994*(x1)**3 \n"
     ]
    },
    {
     "name": "stderr",
     "output_type": "stream",
     "text": [
      "\n",
      "\n",
      "\n",
      "\n",
      "\n",
      " 26%|█████████████████████▍                                                           | 53/200 [00:16<00:45,  3.26it/s]"
     ]
    },
    {
     "name": "stdout",
     "output_type": "stream",
     "text": [
      "4.517618383085088*(x0)**2 + 10.017146822507994*(x1)**3 \n"
     ]
    },
    {
     "name": "stderr",
     "output_type": "stream",
     "text": [
      "\n",
      "\n",
      "\n",
      "\n",
      "\n",
      " 27%|█████████████████████▊                                                           | 54/200 [00:17<00:45,  3.20it/s]"
     ]
    },
    {
     "name": "stdout",
     "output_type": "stream",
     "text": [
      "4.517618383085088*(x0)**2 + 10.017146822507994*(x1)**3 \n"
     ]
    },
    {
     "name": "stderr",
     "output_type": "stream",
     "text": [
      "\n",
      "\n",
      "\n",
      "\n",
      "\n",
      " 28%|██████████████████████▎                                                          | 55/200 [00:17<00:46,  3.11it/s]"
     ]
    },
    {
     "name": "stdout",
     "output_type": "stream",
     "text": [
      "4.517618383085088*(x0)**2 + 10.017146822507994*(x1)**3 \n"
     ]
    },
    {
     "name": "stderr",
     "output_type": "stream",
     "text": [
      "\n",
      "\n",
      "\n",
      "\n",
      "\n",
      " 28%|██████████████████████▋                                                          | 56/200 [00:17<00:46,  3.13it/s]"
     ]
    },
    {
     "name": "stdout",
     "output_type": "stream",
     "text": [
      "4.41761838694288*(x0)**2 + 10.017146822507994*(x1)**3 \n"
     ]
    },
    {
     "name": "stderr",
     "output_type": "stream",
     "text": [
      "\n",
      "\n",
      "\n",
      "\n",
      "\n",
      " 28%|███████████████████████                                                          | 57/200 [00:18<00:44,  3.20it/s]"
     ]
    },
    {
     "name": "stdout",
     "output_type": "stream",
     "text": [
      "4.41761838694288*(x0)**2 + 10.017146822507994*(x1)**3 \n"
     ]
    },
    {
     "name": "stderr",
     "output_type": "stream",
     "text": [
      "\n",
      "\n",
      "\n",
      "\n",
      "\n",
      " 29%|███████████████████████▍                                                         | 58/200 [00:18<00:43,  3.28it/s]"
     ]
    },
    {
     "name": "stdout",
     "output_type": "stream",
     "text": [
      "4.41761838694288*(x0)**2 + 10.017146822507994*(x1)**3 \n"
     ]
    },
    {
     "name": "stderr",
     "output_type": "stream",
     "text": [
      "\n",
      "\n",
      "\n",
      "\n",
      "\n",
      " 30%|███████████████████████▉                                                         | 59/200 [00:18<00:44,  3.16it/s]"
     ]
    },
    {
     "name": "stdout",
     "output_type": "stream",
     "text": [
      "4.41761838694288*(x0)**2 + 10.017146822507994*(x1)**3 \n"
     ]
    },
    {
     "name": "stderr",
     "output_type": "stream",
     "text": [
      "\n",
      "\n",
      "\n",
      "\n",
      "\n",
      " 30%|████████████████████████▎                                                        | 60/200 [00:19<00:45,  3.06it/s]"
     ]
    },
    {
     "name": "stdout",
     "output_type": "stream",
     "text": [
      "4.41761838694288*(x0)**2 + 10.017146822507994*(x1)**3 \n"
     ]
    },
    {
     "name": "stderr",
     "output_type": "stream",
     "text": [
      "\n",
      "\n",
      "\n",
      "\n",
      "\n",
      " 30%|████████████████████████▋                                                        | 61/200 [00:19<00:45,  3.03it/s]"
     ]
    },
    {
     "name": "stdout",
     "output_type": "stream",
     "text": [
      "4.417618386624677*(x0)**2 + 10.017146822507994*(x1)**3 \n"
     ]
    },
    {
     "name": "stderr",
     "output_type": "stream",
     "text": [
      "\n",
      "\n",
      "\n",
      "\n",
      "\n",
      " 31%|█████████████████████████                                                        | 62/200 [00:19<00:43,  3.16it/s]"
     ]
    },
    {
     "name": "stdout",
     "output_type": "stream",
     "text": [
      "4.417618386624677*(x0)**2 + 10.017146822507994*(x1)**3 \n"
     ]
    },
    {
     "name": "stderr",
     "output_type": "stream",
     "text": [
      "\n",
      "\n",
      "\n",
      "\n",
      "\n",
      " 32%|█████████████████████████▌                                                       | 63/200 [00:20<00:44,  3.05it/s]"
     ]
    },
    {
     "name": "stdout",
     "output_type": "stream",
     "text": [
      "4.417618386301938*(x0)**2 + 10.017146822507994*(x1)**3 \n"
     ]
    },
    {
     "name": "stderr",
     "output_type": "stream",
     "text": [
      "\n",
      "\n",
      "\n",
      "\n",
      "\n",
      " 32%|█████████████████████████▉                                                       | 64/200 [00:20<00:51,  2.64it/s]"
     ]
    },
    {
     "name": "stdout",
     "output_type": "stream",
     "text": [
      "4.417618385821318*(x0)**2 + 10.017146822507994*(x1)**3 \n"
     ]
    },
    {
     "name": "stderr",
     "output_type": "stream",
     "text": [
      "\n",
      "\n",
      "\n",
      "\n",
      "\n",
      " 32%|██████████████████████████▎                                                      | 65/200 [00:20<00:47,  2.83it/s]"
     ]
    },
    {
     "name": "stdout",
     "output_type": "stream",
     "text": [
      "4.417618385821318*(x0)**2 + 10.017146822507994*(x1)**3 \n"
     ]
    },
    {
     "name": "stderr",
     "output_type": "stream",
     "text": [
      "\n",
      "\n",
      "\n",
      "\n",
      "\n",
      " 33%|██████████████████████████▋                                                      | 66/200 [00:21<00:45,  2.97it/s]"
     ]
    },
    {
     "name": "stdout",
     "output_type": "stream",
     "text": [
      "4.417618385821318*(x0)**2 + 10.017146822507994*(x1)**3 \n"
     ]
    },
    {
     "name": "stderr",
     "output_type": "stream",
     "text": [
      "\n",
      "\n",
      "\n",
      "\n",
      "\n",
      " 34%|███████████████████████████▏                                                     | 67/200 [00:21<00:45,  2.92it/s]"
     ]
    },
    {
     "name": "stdout",
     "output_type": "stream",
     "text": [
      "4.3176183919051265*(x0)**2 + 10.017146822507994*(x1)**3 \n"
     ]
    },
    {
     "name": "stderr",
     "output_type": "stream",
     "text": [
      "\n",
      "\n",
      "\n",
      "\n",
      "\n",
      " 34%|███████████████████████████▌                                                     | 68/200 [00:21<00:42,  3.11it/s]"
     ]
    },
    {
     "name": "stdout",
     "output_type": "stream",
     "text": [
      "4.3176183919051265*(x0)**2 + 10.017146822507994*(x1)**3 \n"
     ]
    },
    {
     "name": "stderr",
     "output_type": "stream",
     "text": [
      "\n",
      "\n",
      "\n",
      "\n",
      "\n",
      " 34%|███████████████████████████▉                                                     | 69/200 [00:22<00:42,  3.10it/s]"
     ]
    },
    {
     "name": "stdout",
     "output_type": "stream",
     "text": [
      "4.3176183919051265*(x0)**2 + 10.017146822507994*(x1)**3 \n"
     ]
    },
    {
     "name": "stderr",
     "output_type": "stream",
     "text": [
      "\n",
      "\n",
      "\n",
      "\n",
      "\n",
      " 35%|████████████████████████████▎                                                    | 70/200 [00:22<00:42,  3.08it/s]"
     ]
    },
    {
     "name": "stdout",
     "output_type": "stream",
     "text": [
      "4.217618395442959*(x0)**2 + 10.017146822507994*(x1)**3 \n"
     ]
    },
    {
     "name": "stderr",
     "output_type": "stream",
     "text": [
      "\n",
      "\n",
      "\n",
      "\n",
      "\n",
      " 36%|████████████████████████████▊                                                    | 71/200 [00:22<00:41,  3.08it/s]"
     ]
    },
    {
     "name": "stdout",
     "output_type": "stream",
     "text": [
      "4.217618394977942*(x0)**2 + 10.017146822507994*(x1)**3 \n"
     ]
    },
    {
     "name": "stderr",
     "output_type": "stream",
     "text": [
      "\n",
      "\n",
      "\n",
      "\n",
      "\n",
      " 36%|█████████████████████████████▏                                                   | 72/200 [00:23<00:42,  3.01it/s]"
     ]
    },
    {
     "name": "stdout",
     "output_type": "stream",
     "text": [
      "4.217618394977942*(x0)**2 + 10.017146822507994*(x1)**3 \n"
     ]
    },
    {
     "name": "stderr",
     "output_type": "stream",
     "text": [
      "\n",
      "\n",
      "\n",
      "\n",
      "\n",
      " 36%|█████████████████████████████▌                                                   | 73/200 [00:23<00:40,  3.15it/s]"
     ]
    },
    {
     "name": "stdout",
     "output_type": "stream",
     "text": [
      "4.217618394977942*(x0)**2 + 10.017146822507994*(x1)**3 \n"
     ]
    },
    {
     "name": "stderr",
     "output_type": "stream",
     "text": [
      "\n",
      "\n",
      "\n",
      "\n",
      "\n",
      " 37%|█████████████████████████████▉                                                   | 74/200 [00:23<00:40,  3.12it/s]"
     ]
    },
    {
     "name": "stdout",
     "output_type": "stream",
     "text": [
      "4.217618393066536*(x0)**2 + 10.017146822507994*(x1)**3 \n"
     ]
    },
    {
     "name": "stderr",
     "output_type": "stream",
     "text": [
      "\n",
      "\n",
      "\n",
      "\n",
      "\n",
      " 38%|██████████████████████████████▍                                                  | 75/200 [00:24<00:41,  3.03it/s]"
     ]
    },
    {
     "name": "stdout",
     "output_type": "stream",
     "text": [
      "4.217618393066536*(x0)**2 + 10.017146822507994*(x1)**3 \n"
     ]
    },
    {
     "name": "stderr",
     "output_type": "stream",
     "text": [
      "\n",
      "\n",
      "\n",
      "\n",
      "\n",
      " 38%|██████████████████████████████▊                                                  | 76/200 [00:24<00:39,  3.18it/s]"
     ]
    },
    {
     "name": "stdout",
     "output_type": "stream",
     "text": [
      "4.117618399384461*(x0)**2 + 10.017146822507994*(x1)**3 \n"
     ]
    },
    {
     "name": "stderr",
     "output_type": "stream",
     "text": [
      "\n",
      "\n",
      "\n",
      "\n",
      "\n",
      " 38%|███████████████████████████████▏                                                 | 77/200 [00:24<00:39,  3.14it/s]"
     ]
    },
    {
     "name": "stdout",
     "output_type": "stream",
     "text": [
      "4.117618399384461*(x0)**2 + 10.017146822507994*(x1)**3 \n"
     ]
    },
    {
     "name": "stderr",
     "output_type": "stream",
     "text": [
      "\n",
      "\n",
      "\n",
      "\n",
      "\n",
      " 39%|███████████████████████████████▌                                                 | 78/200 [00:24<00:37,  3.22it/s]"
     ]
    },
    {
     "name": "stdout",
     "output_type": "stream",
     "text": [
      "4.117618399384461*(x0)**2 + 10.017146822507994*(x1)**3 \n"
     ]
    },
    {
     "name": "stderr",
     "output_type": "stream",
     "text": [
      "\n",
      "\n",
      "\n",
      "\n",
      "\n",
      " 40%|███████████████████████████████▉                                                 | 79/200 [00:25<00:36,  3.31it/s]"
     ]
    },
    {
     "name": "stdout",
     "output_type": "stream",
     "text": [
      "4.117618399264713*(x0)**2 + 10.017146822507994*(x1)**3 \n"
     ]
    },
    {
     "name": "stderr",
     "output_type": "stream",
     "text": [
      "\n",
      "\n",
      "\n",
      "\n",
      "\n",
      " 40%|████████████████████████████████▍                                                | 80/200 [00:25<00:37,  3.24it/s]"
     ]
    },
    {
     "name": "stdout",
     "output_type": "stream",
     "text": [
      "4.117618399264713*(x0)**2 + 10.017146822507994*(x1)**3 \n"
     ]
    },
    {
     "name": "stderr",
     "output_type": "stream",
     "text": [
      "\n",
      "\n",
      "\n",
      "\n",
      "\n",
      " 40%|████████████████████████████████▊                                                | 81/200 [00:25<00:36,  3.26it/s]"
     ]
    },
    {
     "name": "stdout",
     "output_type": "stream",
     "text": [
      "4.11761839817369*(x0)**2 + 10.017146822507994*(x1)**3 \n"
     ]
    },
    {
     "name": "stderr",
     "output_type": "stream",
     "text": [
      "\n",
      "\n",
      "\n",
      "\n",
      "\n",
      " 41%|█████████████████████████████████▏                                               | 82/200 [00:26<00:40,  2.92it/s]"
     ]
    },
    {
     "name": "stdout",
     "output_type": "stream",
     "text": [
      "4.11761839817369*(x0)**2 + 10.017146822507994*(x1)**3 \n"
     ]
    },
    {
     "name": "stderr",
     "output_type": "stream",
     "text": [
      "\n",
      "\n",
      "\n",
      "\n",
      "\n",
      " 42%|█████████████████████████████████▌                                               | 83/200 [00:26<00:39,  2.95it/s]"
     ]
    },
    {
     "name": "stdout",
     "output_type": "stream",
     "text": [
      "4.11761839817369*(x0)**2 + 10.017146822507994*(x1)**3 \n"
     ]
    },
    {
     "name": "stderr",
     "output_type": "stream",
     "text": [
      "\n",
      "\n",
      "\n",
      "\n",
      "\n",
      " 42%|██████████████████████████████████                                               | 84/200 [00:26<00:38,  3.00it/s]"
     ]
    },
    {
     "name": "stdout",
     "output_type": "stream",
     "text": [
      "4.11761839817369*(x0)**2 + 10.017146822507994*(x1)**3 \n"
     ]
    },
    {
     "name": "stderr",
     "output_type": "stream",
     "text": [
      "\n",
      "\n",
      "\n",
      "\n",
      "\n",
      " 42%|██████████████████████████████████▍                                              | 85/200 [00:27<00:38,  2.96it/s]"
     ]
    },
    {
     "name": "stdout",
     "output_type": "stream",
     "text": [
      "4.11761839817369*(x0)**2 + 10.017146822507994*(x1)**3 \n"
     ]
    },
    {
     "name": "stderr",
     "output_type": "stream",
     "text": [
      "\n",
      "\n",
      "\n",
      "\n",
      "\n",
      " 43%|██████████████████████████████████▊                                              | 86/200 [00:27<00:36,  3.15it/s]"
     ]
    },
    {
     "name": "stdout",
     "output_type": "stream",
     "text": [
      "4.11761839817369*(x0)**2 + 10.017146822507994*(x1)**3 \n"
     ]
    },
    {
     "name": "stderr",
     "output_type": "stream",
     "text": [
      "\n",
      "\n",
      "\n",
      "\n",
      "\n",
      " 44%|███████████████████████████████████▏                                             | 87/200 [00:27<00:34,  3.29it/s]"
     ]
    },
    {
     "name": "stdout",
     "output_type": "stream",
     "text": [
      "4.11761839817369*(x0)**2 + 10.017146822507994*(x1)**3 \n"
     ]
    },
    {
     "name": "stderr",
     "output_type": "stream",
     "text": [
      "\n",
      "\n",
      "\n",
      "\n",
      "\n",
      " 44%|███████████████████████████████████▋                                             | 88/200 [00:28<00:35,  3.17it/s]"
     ]
    },
    {
     "name": "stdout",
     "output_type": "stream",
     "text": [
      "4.0176184022713155*(x0)**2 + 10.017146822507994*(x1)**3 \n"
     ]
    },
    {
     "name": "stderr",
     "output_type": "stream",
     "text": [
      "\n",
      "\n",
      "\n",
      "\n",
      "\n",
      " 44%|████████████████████████████████████                                             | 89/200 [00:28<00:34,  3.26it/s]"
     ]
    },
    {
     "name": "stdout",
     "output_type": "stream",
     "text": [
      "4.0176184022713155*(x0)**2 + 10.017146822507994*(x1)**3 \n"
     ]
    },
    {
     "name": "stderr",
     "output_type": "stream",
     "text": [
      "\n",
      "\n",
      "\n",
      "\n",
      "\n",
      " 45%|████████████████████████████████████▍                                            | 90/200 [00:28<00:33,  3.28it/s]"
     ]
    },
    {
     "name": "stdout",
     "output_type": "stream",
     "text": [
      "4.0176184022713155*(x0)**2 + 10.017146822507994*(x1)**3 \n"
     ]
    },
    {
     "name": "stderr",
     "output_type": "stream",
     "text": [
      "\n",
      "\n",
      "\n",
      "\n",
      "\n",
      " 46%|████████████████████████████████████▊                                            | 91/200 [00:29<00:35,  3.11it/s]"
     ]
    },
    {
     "name": "stdout",
     "output_type": "stream",
     "text": [
      "4.0176184022713155*(x0)**2 + 10.017146822507994*(x1)**3 \n"
     ]
    },
    {
     "name": "stderr",
     "output_type": "stream",
     "text": [
      "\n",
      "\n",
      "\n",
      "\n",
      "\n",
      " 46%|█████████████████████████████████████▎                                           | 92/200 [00:29<00:35,  3.07it/s]"
     ]
    },
    {
     "name": "stdout",
     "output_type": "stream",
     "text": [
      "4.0176184022713155*(x0)**2 + 10.017146822507994*(x1)**3 \n"
     ]
    },
    {
     "name": "stderr",
     "output_type": "stream",
     "text": [
      "\n",
      "\n",
      "\n",
      "\n",
      "\n",
      " 46%|█████████████████████████████████████▋                                           | 93/200 [00:29<00:35,  3.01it/s]"
     ]
    },
    {
     "name": "stdout",
     "output_type": "stream",
     "text": [
      "4.0176184022713155*(x0)**2 + 10.017146822507994*(x1)**3 \n"
     ]
    },
    {
     "name": "stderr",
     "output_type": "stream",
     "text": [
      "\n",
      "\n",
      "\n",
      "\n",
      "\n",
      " 47%|██████████████████████████████████████                                           | 94/200 [00:30<00:33,  3.14it/s]"
     ]
    },
    {
     "name": "stdout",
     "output_type": "stream",
     "text": [
      "4.0176184022713155*(x0)**2 + 10.017146822507994*(x1)**3 \n"
     ]
    },
    {
     "name": "stderr",
     "output_type": "stream",
     "text": [
      "\n",
      "\n",
      "\n",
      "\n",
      "\n",
      " 48%|██████████████████████████████████████▍                                          | 95/200 [00:30<00:32,  3.21it/s]"
     ]
    },
    {
     "name": "stdout",
     "output_type": "stream",
     "text": [
      "4.0176184022713155*(x0)**2 + 10.017146822507994*(x1)**3 \n"
     ]
    },
    {
     "name": "stderr",
     "output_type": "stream",
     "text": [
      "\n",
      "\n",
      "\n",
      "\n",
      "\n",
      " 48%|██████████████████████████████████████▉                                          | 96/200 [00:30<00:33,  3.08it/s]"
     ]
    },
    {
     "name": "stdout",
     "output_type": "stream",
     "text": [
      "4.0176184022713155*(x0)**2 + 10.017146822507994*(x1)**3 \n"
     ]
    },
    {
     "name": "stderr",
     "output_type": "stream",
     "text": [
      "\n",
      "\n",
      "\n",
      "\n",
      "\n",
      " 48%|███████████████████████████████████████▎                                         | 97/200 [00:31<00:34,  2.99it/s]"
     ]
    },
    {
     "name": "stdout",
     "output_type": "stream",
     "text": [
      "4.0176184022713155*(x0)**2 + 10.017146822507994*(x1)**3 \n"
     ]
    },
    {
     "name": "stderr",
     "output_type": "stream",
     "text": [
      "\n",
      "\n",
      "\n",
      "\n",
      "\n",
      " 49%|███████████████████████████████████████▋                                         | 98/200 [00:31<00:33,  3.05it/s]"
     ]
    },
    {
     "name": "stdout",
     "output_type": "stream",
     "text": [
      "4.017618401778446*(x0)**2 + 10.017146822507994*(x1)**3 \n"
     ]
    },
    {
     "name": "stderr",
     "output_type": "stream",
     "text": [
      "\n",
      "\n",
      "\n",
      "\n",
      "\n",
      " 50%|████████████████████████████████████████                                         | 99/200 [00:31<00:33,  3.01it/s]"
     ]
    },
    {
     "name": "stdout",
     "output_type": "stream",
     "text": [
      "4.017618401778446*(x0)**2 + 10.017146822507994*(x1)**3 \n"
     ]
    },
    {
     "name": "stderr",
     "output_type": "stream",
     "text": [
      "\n",
      "\n",
      "\n",
      "\n",
      "\n",
      " 50%|████████████████████████████████████████                                        | 100/200 [00:32<00:31,  3.15it/s]"
     ]
    },
    {
     "name": "stdout",
     "output_type": "stream",
     "text": [
      "4.017618401778446*(x0)**2 + 10.017146822507994*(x1)**3 \n"
     ]
    },
    {
     "name": "stderr",
     "output_type": "stream",
     "text": [
      "\n",
      "\n",
      "\n",
      "\n",
      "\n",
      " 50%|████████████████████████████████████████▍                                       | 101/200 [00:32<00:35,  2.77it/s]"
     ]
    },
    {
     "name": "stdout",
     "output_type": "stream",
     "text": [
      "4.017618401778446*(x0)**2 + 10.017146822507994*(x1)**3 \n"
     ]
    },
    {
     "name": "stderr",
     "output_type": "stream",
     "text": [
      "\n",
      "\n",
      "\n",
      "\n",
      "\n",
      " 51%|████████████████████████████████████████▊                                       | 102/200 [00:32<00:35,  2.79it/s]"
     ]
    },
    {
     "name": "stdout",
     "output_type": "stream",
     "text": [
      "4.017618401778446*(x0)**2 + 10.017146822507994*(x1)**3 \n"
     ]
    },
    {
     "name": "stderr",
     "output_type": "stream",
     "text": [
      "\n",
      "\n",
      "\n",
      "\n",
      "\n",
      " 52%|█████████████████████████████████████████▏                                      | 103/200 [00:33<00:33,  2.90it/s]"
     ]
    },
    {
     "name": "stdout",
     "output_type": "stream",
     "text": [
      "4.017618401778446*(x0)**2 + 10.017146822507994*(x1)**3 \n"
     ]
    },
    {
     "name": "stderr",
     "output_type": "stream",
     "text": [
      "\n",
      "\n",
      "\n",
      "\n",
      "\n",
      " 52%|█████████████████████████████████████████▌                                      | 104/200 [00:33<00:33,  2.89it/s]"
     ]
    },
    {
     "name": "stdout",
     "output_type": "stream",
     "text": [
      "4.017618401778446*(x0)**2 + 10.017146822507994*(x1)**3 \n"
     ]
    },
    {
     "name": "stderr",
     "output_type": "stream",
     "text": [
      "\n",
      "\n",
      "\n",
      "\n",
      "\n",
      " 52%|██████████████████████████████████████████                                      | 105/200 [00:33<00:31,  3.01it/s]"
     ]
    },
    {
     "name": "stdout",
     "output_type": "stream",
     "text": [
      "4.017618401778446*(x0)**2 + 10.017146822507994*(x1)**3 \n"
     ]
    },
    {
     "name": "stderr",
     "output_type": "stream",
     "text": [
      "\n",
      "\n",
      "\n",
      "\n",
      "\n",
      " 53%|██████████████████████████████████████████▍                                     | 106/200 [00:34<00:31,  2.97it/s]"
     ]
    },
    {
     "name": "stdout",
     "output_type": "stream",
     "text": [
      "4.017618401778446*(x0)**2 + 10.017146822507994*(x1)**3 \n"
     ]
    },
    {
     "name": "stderr",
     "output_type": "stream",
     "text": [
      "\n",
      "\n",
      "\n",
      "\n",
      "\n",
      " 54%|██████████████████████████████████████████▊                                     | 107/200 [00:34<00:31,  2.92it/s]"
     ]
    },
    {
     "name": "stdout",
     "output_type": "stream",
     "text": [
      "4.017618401778446*(x0)**2 + 10.017146822507994*(x1)**3 \n"
     ]
    },
    {
     "name": "stderr",
     "output_type": "stream",
     "text": [
      "\n",
      "\n",
      "\n",
      "\n",
      "\n",
      " 54%|███████████████████████████████████████████▏                                    | 108/200 [00:34<00:31,  2.93it/s]"
     ]
    },
    {
     "name": "stdout",
     "output_type": "stream",
     "text": [
      "4.017618401778446*(x0)**2 + 10.017146822507994*(x1)**3 \n"
     ]
    },
    {
     "name": "stderr",
     "output_type": "stream",
     "text": [
      "\n",
      "\n",
      "\n",
      "\n",
      "\n",
      " 55%|███████████████████████████████████████████▌                                    | 109/200 [00:35<00:29,  3.09it/s]"
     ]
    },
    {
     "name": "stdout",
     "output_type": "stream",
     "text": [
      "4.01761840160322*(x0)**2 + 10.017146822507994*(x1)**3 \n"
     ]
    },
    {
     "name": "stderr",
     "output_type": "stream",
     "text": [
      "\n",
      "\n",
      "\n",
      "\n",
      "\n",
      " 55%|████████████████████████████████████████████                                    | 110/200 [00:35<00:29,  3.09it/s]"
     ]
    },
    {
     "name": "stdout",
     "output_type": "stream",
     "text": [
      "4.01761840160322*(x0)**2 + 10.017146822507994*(x1)**3 \n"
     ]
    },
    {
     "name": "stderr",
     "output_type": "stream",
     "text": [
      "\n",
      "\n",
      "\n",
      "\n",
      "\n",
      " 56%|████████████████████████████████████████████▍                                   | 111/200 [00:35<00:29,  3.06it/s]"
     ]
    },
    {
     "name": "stdout",
     "output_type": "stream",
     "text": [
      "4.01761840160322*(x0)**2 + 10.017146822507994*(x1)**3 \n"
     ]
    },
    {
     "name": "stderr",
     "output_type": "stream",
     "text": [
      "\n",
      "\n",
      "\n",
      "\n",
      "\n",
      " 56%|████████████████████████████████████████████▊                                   | 112/200 [00:36<00:28,  3.05it/s]"
     ]
    },
    {
     "name": "stdout",
     "output_type": "stream",
     "text": [
      "4.01761840160322*(x0)**2 + 10.017146822507994*(x1)**3 \n"
     ]
    },
    {
     "name": "stderr",
     "output_type": "stream",
     "text": [
      "\n",
      "\n",
      "\n",
      "\n",
      "\n",
      " 56%|█████████████████████████████████████████████▏                                  | 113/200 [00:36<00:28,  3.04it/s]"
     ]
    },
    {
     "name": "stdout",
     "output_type": "stream",
     "text": [
      "4.017618398774836*(x0)**2 + 10.017146822507994*(x1)**3 \n"
     ]
    },
    {
     "name": "stderr",
     "output_type": "stream",
     "text": [
      "\n",
      "\n",
      "\n",
      "\n",
      "\n",
      " 57%|█████████████████████████████████████████████▌                                  | 114/200 [00:36<00:27,  3.09it/s]"
     ]
    },
    {
     "name": "stdout",
     "output_type": "stream",
     "text": [
      "4.017618398774836*(x0)**2 + 10.017146822507994*(x1)**3 \n"
     ]
    },
    {
     "name": "stderr",
     "output_type": "stream",
     "text": [
      "\n",
      "\n",
      "\n",
      "\n",
      "\n",
      " 57%|██████████████████████████████████████████████                                  | 115/200 [00:37<00:27,  3.09it/s]"
     ]
    },
    {
     "name": "stdout",
     "output_type": "stream",
     "text": [
      "4.017618398774836*(x0)**2 + 10.017146822507994*(x1)**3 \n"
     ]
    },
    {
     "name": "stderr",
     "output_type": "stream",
     "text": [
      "\n",
      "\n",
      "\n",
      "\n",
      "\n",
      " 58%|██████████████████████████████████████████████▍                                 | 116/200 [00:37<00:27,  3.01it/s]"
     ]
    },
    {
     "name": "stdout",
     "output_type": "stream",
     "text": [
      "4.017618398774836*(x0)**2 + 10.017146822507994*(x1)**3 \n"
     ]
    },
    {
     "name": "stderr",
     "output_type": "stream",
     "text": [
      "\n",
      "\n",
      "\n",
      "\n",
      "\n",
      " 58%|██████████████████████████████████████████████▊                                 | 117/200 [00:37<00:26,  3.12it/s]"
     ]
    },
    {
     "name": "stdout",
     "output_type": "stream",
     "text": [
      "4.017618398774836*(x0)**2 + 10.017146822507994*(x1)**3 \n"
     ]
    },
    {
     "name": "stderr",
     "output_type": "stream",
     "text": [
      "\n",
      "\n",
      "\n",
      "\n",
      "\n",
      " 59%|███████████████████████████████████████████████▏                                | 118/200 [00:38<00:27,  3.02it/s]"
     ]
    },
    {
     "name": "stdout",
     "output_type": "stream",
     "text": [
      "4.017618398774836*(x0)**2 + 10.017146822507994*(x1)**3 \n"
     ]
    },
    {
     "name": "stderr",
     "output_type": "stream",
     "text": [
      "\n",
      "\n",
      "\n",
      "\n",
      "\n",
      " 60%|███████████████████████████████████████████████▌                                | 119/200 [00:38<00:29,  2.70it/s]"
     ]
    },
    {
     "name": "stdout",
     "output_type": "stream",
     "text": [
      "4.017618398774836*(x0)**2 + 10.017146822507994*(x1)**3 \n"
     ]
    },
    {
     "name": "stderr",
     "output_type": "stream",
     "text": [
      "\n",
      "\n",
      "\n",
      "\n",
      "\n",
      " 60%|████████████████████████████████████████████████                                | 120/200 [00:38<00:28,  2.80it/s]"
     ]
    },
    {
     "name": "stdout",
     "output_type": "stream",
     "text": [
      "4.017618398774836*(x0)**2 + 10.017146822507994*(x1)**3 \n"
     ]
    },
    {
     "name": "stderr",
     "output_type": "stream",
     "text": [
      "\n",
      "\n",
      "\n",
      "\n",
      "\n",
      " 60%|████████████████████████████████████████████████▍                               | 121/200 [00:39<00:27,  2.90it/s]"
     ]
    },
    {
     "name": "stdout",
     "output_type": "stream",
     "text": [
      "4.017618398774836*(x0)**2 + 10.017146822507994*(x1)**3 \n"
     ]
    },
    {
     "name": "stderr",
     "output_type": "stream",
     "text": [
      "\n",
      "\n",
      "\n",
      "\n",
      "\n",
      " 61%|████████████████████████████████████████████████▊                               | 122/200 [00:39<00:26,  2.90it/s]"
     ]
    },
    {
     "name": "stdout",
     "output_type": "stream",
     "text": [
      "4.017618398774836*(x0)**2 + 10.017146822507994*(x1)**3 \n"
     ]
    },
    {
     "name": "stderr",
     "output_type": "stream",
     "text": [
      "\n",
      "\n",
      "\n",
      "\n",
      "\n",
      " 62%|█████████████████████████████████████████████████▏                              | 123/200 [00:39<00:25,  2.97it/s]"
     ]
    },
    {
     "name": "stdout",
     "output_type": "stream",
     "text": [
      "4.017618398774836*(x0)**2 + 10.017146822507994*(x1)**3 \n"
     ]
    },
    {
     "name": "stderr",
     "output_type": "stream",
     "text": [
      "\n",
      "\n",
      "\n",
      "\n",
      "\n",
      " 62%|█████████████████████████████████████████████████▌                              | 124/200 [00:40<00:24,  3.16it/s]"
     ]
    },
    {
     "name": "stdout",
     "output_type": "stream",
     "text": [
      "4.017618398774836*(x0)**2 + 10.017146822507994*(x1)**3 \n"
     ]
    },
    {
     "name": "stderr",
     "output_type": "stream",
     "text": [
      "\n",
      "\n",
      "\n",
      "\n",
      "\n",
      " 62%|██████████████████████████████████████████████████                              | 125/200 [00:40<00:23,  3.13it/s]"
     ]
    },
    {
     "name": "stdout",
     "output_type": "stream",
     "text": [
      "4.017618398774836*(x0)**2 + 10.017146822507994*(x1)**3 \n"
     ]
    },
    {
     "name": "stderr",
     "output_type": "stream",
     "text": [
      "\n",
      "\n",
      "\n",
      "\n",
      "\n",
      " 63%|██████████████████████████████████████████████████▍                             | 126/200 [00:40<00:24,  3.06it/s]"
     ]
    },
    {
     "name": "stdout",
     "output_type": "stream",
     "text": [
      "4.017618398774836*(x0)**2 + 10.017146822507994*(x1)**3 \n"
     ]
    },
    {
     "name": "stderr",
     "output_type": "stream",
     "text": [
      "\n",
      "\n",
      "\n",
      "\n",
      "\n",
      " 64%|██████████████████████████████████████████████████▊                             | 127/200 [00:41<00:23,  3.16it/s]"
     ]
    },
    {
     "name": "stdout",
     "output_type": "stream",
     "text": [
      "4.017618398774836*(x0)**2 + 10.017146822507994*(x1)**3 \n"
     ]
    },
    {
     "name": "stderr",
     "output_type": "stream",
     "text": [
      "\n",
      "\n",
      "\n",
      "\n",
      "\n",
      " 64%|███████████████████████████████████████████████████▏                            | 128/200 [00:41<00:23,  3.07it/s]"
     ]
    },
    {
     "name": "stdout",
     "output_type": "stream",
     "text": [
      "4.017618398774836*(x0)**2 + 10.017146822507994*(x1)**3 \n"
     ]
    },
    {
     "name": "stderr",
     "output_type": "stream",
     "text": [
      "\n",
      "\n",
      "\n",
      "\n",
      "\n",
      " 64%|███████████████████████████████████████████████████▌                            | 129/200 [00:41<00:23,  3.05it/s]"
     ]
    },
    {
     "name": "stdout",
     "output_type": "stream",
     "text": [
      "4.017618398774836*(x0)**2 + 10.017146822507994*(x1)**3 \n"
     ]
    },
    {
     "name": "stderr",
     "output_type": "stream",
     "text": [
      "\n",
      "\n",
      "\n",
      "\n",
      "\n",
      " 65%|████████████████████████████████████████████████████                            | 130/200 [00:42<00:22,  3.06it/s]"
     ]
    },
    {
     "name": "stdout",
     "output_type": "stream",
     "text": [
      "4.017618398774836*(x0)**2 + 10.017146822507994*(x1)**3 \n"
     ]
    },
    {
     "name": "stderr",
     "output_type": "stream",
     "text": [
      "\n",
      "\n",
      "\n",
      "\n",
      "\n",
      " 66%|████████████████████████████████████████████████████▍                           | 131/200 [00:42<00:22,  3.01it/s]"
     ]
    },
    {
     "name": "stdout",
     "output_type": "stream",
     "text": [
      "4.017618398774836*(x0)**2 + 10.017146822507994*(x1)**3 \n"
     ]
    },
    {
     "name": "stderr",
     "output_type": "stream",
     "text": [
      "\n",
      "\n",
      "\n",
      "\n",
      "\n",
      " 66%|████████████████████████████████████████████████████▊                           | 132/200 [00:42<00:22,  3.02it/s]"
     ]
    },
    {
     "name": "stdout",
     "output_type": "stream",
     "text": [
      "4.017618398774836*(x0)**2 + 10.017146822507994*(x1)**3 \n"
     ]
    },
    {
     "name": "stderr",
     "output_type": "stream",
     "text": [
      "\n",
      "\n",
      "\n",
      "\n",
      "\n",
      " 66%|█████████████████████████████████████████████████████▏                          | 133/200 [00:43<00:22,  2.99it/s]"
     ]
    },
    {
     "name": "stdout",
     "output_type": "stream",
     "text": [
      "4.017618398774836*(x0)**2 + 10.017146822507994*(x1)**3 \n"
     ]
    },
    {
     "name": "stderr",
     "output_type": "stream",
     "text": [
      "\n",
      "\n",
      "\n",
      "\n",
      "\n",
      " 67%|█████████████████████████████████████████████████████▌                          | 134/200 [00:43<00:21,  3.12it/s]"
     ]
    },
    {
     "name": "stdout",
     "output_type": "stream",
     "text": [
      "4.017618398774836*(x0)**2 + 10.017146822507994*(x1)**3 \n"
     ]
    },
    {
     "name": "stderr",
     "output_type": "stream",
     "text": [
      "\n",
      "\n",
      "\n",
      "\n",
      "\n",
      " 68%|██████████████████████████████████████████████████████                          | 135/200 [00:43<00:19,  3.26it/s]"
     ]
    },
    {
     "name": "stdout",
     "output_type": "stream",
     "text": [
      "4.017618398774836*(x0)**2 + 10.017146822507994*(x1)**3 \n"
     ]
    },
    {
     "name": "stderr",
     "output_type": "stream",
     "text": [
      "\n",
      "\n",
      "\n",
      "\n",
      "\n",
      " 68%|██████████████████████████████████████████████████████▍                         | 136/200 [00:43<00:19,  3.36it/s]"
     ]
    },
    {
     "name": "stdout",
     "output_type": "stream",
     "text": [
      "4.017618398774836*(x0)**2 + 10.017146822507994*(x1)**3 \n"
     ]
    },
    {
     "name": "stderr",
     "output_type": "stream",
     "text": [
      "\n",
      "\n",
      "\n",
      "\n",
      "\n",
      " 68%|██████████████████████████████████████████████████████▊                         | 137/200 [00:44<00:19,  3.28it/s]"
     ]
    },
    {
     "name": "stdout",
     "output_type": "stream",
     "text": [
      "4.017618398774836*(x0)**2 + 10.017146822507994*(x1)**3 \n"
     ]
    },
    {
     "name": "stderr",
     "output_type": "stream",
     "text": [
      "\n",
      "\n",
      "\n",
      "\n",
      "\n",
      " 69%|███████████████████████████████████████████████████████▏                        | 138/200 [00:44<00:20,  2.98it/s]"
     ]
    },
    {
     "name": "stdout",
     "output_type": "stream",
     "text": [
      "4.017618398774836*(x0)**2 + 10.017146822507994*(x1)**3 \n"
     ]
    },
    {
     "name": "stderr",
     "output_type": "stream",
     "text": [
      "\n",
      "\n",
      "\n",
      "\n",
      "\n",
      " 70%|███████████████████████████████████████████████████████▌                        | 139/200 [00:44<00:19,  3.13it/s]"
     ]
    },
    {
     "name": "stdout",
     "output_type": "stream",
     "text": [
      "4.017618398774836*(x0)**2 + 10.017146822507994*(x1)**3 \n"
     ]
    },
    {
     "name": "stderr",
     "output_type": "stream",
     "text": [
      "\n",
      "\n",
      "\n",
      "\n",
      "\n",
      " 70%|████████████████████████████████████████████████████████                        | 140/200 [00:45<00:18,  3.27it/s]"
     ]
    },
    {
     "name": "stdout",
     "output_type": "stream",
     "text": [
      "4.017618398774836*(x0)**2 + 10.017146822507994*(x1)**3 \n"
     ]
    },
    {
     "name": "stderr",
     "output_type": "stream",
     "text": [
      "\n",
      "\n",
      "\n",
      "\n",
      "\n",
      " 70%|████████████████████████████████████████████████████████▍                       | 141/200 [00:45<00:18,  3.12it/s]"
     ]
    },
    {
     "name": "stdout",
     "output_type": "stream",
     "text": [
      "4.017618398774836*(x0)**2 + 10.017146822507994*(x1)**3 \n"
     ]
    },
    {
     "name": "stderr",
     "output_type": "stream",
     "text": [
      "\n",
      "\n",
      "\n",
      "\n",
      "\n",
      " 71%|████████████████████████████████████████████████████████▊                       | 142/200 [00:45<00:18,  3.20it/s]"
     ]
    },
    {
     "name": "stdout",
     "output_type": "stream",
     "text": [
      "4.017618398774836*(x0)**2 + 10.017146822507994*(x1)**3 \n"
     ]
    },
    {
     "name": "stderr",
     "output_type": "stream",
     "text": [
      "\n",
      "\n",
      "\n",
      "\n",
      "\n",
      " 72%|█████████████████████████████████████████████████████████▏                      | 143/200 [00:46<00:17,  3.19it/s]"
     ]
    },
    {
     "name": "stdout",
     "output_type": "stream",
     "text": [
      "4.017618398774836*(x0)**2 + 10.017146822507994*(x1)**3 \n"
     ]
    },
    {
     "name": "stderr",
     "output_type": "stream",
     "text": [
      "\n",
      "\n",
      "\n",
      "\n",
      "\n",
      " 72%|█████████████████████████████████████████████████████████▌                      | 144/200 [00:46<00:16,  3.32it/s]"
     ]
    },
    {
     "name": "stdout",
     "output_type": "stream",
     "text": [
      "4.017618401765957*(x0)**2 + 10.017146822283904*(x1)**3 \n"
     ]
    },
    {
     "name": "stderr",
     "output_type": "stream",
     "text": [
      "\n",
      "\n",
      "\n",
      "\n",
      "\n",
      " 72%|██████████████████████████████████████████████████████████                      | 145/200 [00:46<00:16,  3.26it/s]"
     ]
    },
    {
     "name": "stdout",
     "output_type": "stream",
     "text": [
      "4.017618401765957*(x0)**2 + 10.017146822283904*(x1)**3 \n"
     ]
    },
    {
     "name": "stderr",
     "output_type": "stream",
     "text": [
      "\n",
      "\n",
      "\n",
      "\n",
      "\n",
      " 73%|██████████████████████████████████████████████████████████▍                     | 146/200 [00:47<00:16,  3.36it/s]"
     ]
    },
    {
     "name": "stdout",
     "output_type": "stream",
     "text": [
      "4.017618401765957*(x0)**2 + 10.017146822283904*(x1)**3 \n"
     ]
    },
    {
     "name": "stderr",
     "output_type": "stream",
     "text": [
      "\n",
      "\n",
      "\n",
      "\n",
      "\n",
      " 74%|██████████████████████████████████████████████████████████▊                     | 147/200 [00:47<00:16,  3.21it/s]"
     ]
    },
    {
     "name": "stdout",
     "output_type": "stream",
     "text": [
      "4.017618401765957*(x0)**2 + 10.017146822283904*(x1)**3 \n"
     ]
    },
    {
     "name": "stderr",
     "output_type": "stream",
     "text": [
      "\n",
      "\n",
      "\n",
      "\n",
      "\n",
      " 74%|███████████████████████████████████████████████████████████▏                    | 148/200 [00:47<00:15,  3.26it/s]"
     ]
    },
    {
     "name": "stdout",
     "output_type": "stream",
     "text": [
      "4.017618401765957*(x0)**2 + 10.017146822283904*(x1)**3 \n"
     ]
    },
    {
     "name": "stderr",
     "output_type": "stream",
     "text": [
      "\n",
      "\n",
      "\n",
      "\n",
      "\n",
      " 74%|███████████████████████████████████████████████████████████▌                    | 149/200 [00:48<00:15,  3.28it/s]"
     ]
    },
    {
     "name": "stdout",
     "output_type": "stream",
     "text": [
      "4.017618401765957*(x0)**2 + 10.017146822283904*(x1)**3 \n"
     ]
    },
    {
     "name": "stderr",
     "output_type": "stream",
     "text": [
      "\n",
      "\n",
      "\n",
      "\n",
      "\n",
      " 75%|████████████████████████████████████████████████████████████                    | 150/200 [00:48<00:15,  3.15it/s]"
     ]
    },
    {
     "name": "stdout",
     "output_type": "stream",
     "text": [
      "4.017618401765957*(x0)**2 + 10.017146822283904*(x1)**3 \n"
     ]
    },
    {
     "name": "stderr",
     "output_type": "stream",
     "text": [
      "\n",
      "\n",
      "\n",
      "\n",
      "\n",
      " 76%|████████████████████████████████████████████████████████████▍                   | 151/200 [00:48<00:15,  3.11it/s]"
     ]
    },
    {
     "name": "stdout",
     "output_type": "stream",
     "text": [
      "4.017618401765957*(x0)**2 + 10.017146822283904*(x1)**3 \n"
     ]
    },
    {
     "name": "stderr",
     "output_type": "stream",
     "text": [
      "\n",
      "\n",
      "\n",
      "\n",
      "\n",
      " 76%|████████████████████████████████████████████████████████████▊                   | 152/200 [00:49<00:15,  3.04it/s]"
     ]
    },
    {
     "name": "stdout",
     "output_type": "stream",
     "text": [
      "4.017618401765957*(x0)**2 + 10.017146822283904*(x1)**3 \n"
     ]
    },
    {
     "name": "stderr",
     "output_type": "stream",
     "text": [
      "\n",
      "\n",
      "\n",
      "\n",
      "\n",
      " 76%|█████████████████████████████████████████████████████████████▏                  | 153/200 [00:49<00:15,  2.96it/s]"
     ]
    },
    {
     "name": "stdout",
     "output_type": "stream",
     "text": [
      "4.017618401765957*(x0)**2 + 10.017146822283904*(x1)**3 \n"
     ]
    },
    {
     "name": "stderr",
     "output_type": "stream",
     "text": [
      "\n",
      "\n",
      "\n",
      "\n",
      "\n",
      " 77%|█████████████████████████████████████████████████████████████▌                  | 154/200 [00:49<00:15,  2.98it/s]"
     ]
    },
    {
     "name": "stdout",
     "output_type": "stream",
     "text": [
      "4.017618401765957*(x0)**2 + 10.017146822283904*(x1)**3 \n"
     ]
    },
    {
     "name": "stderr",
     "output_type": "stream",
     "text": [
      "\n",
      "\n",
      "\n",
      "\n",
      "\n",
      " 78%|██████████████████████████████████████████████████████████████                  | 155/200 [00:50<00:15,  2.97it/s]"
     ]
    },
    {
     "name": "stdout",
     "output_type": "stream",
     "text": [
      "4.017618401765957*(x0)**2 + 10.017146822283904*(x1)**3 \n"
     ]
    },
    {
     "name": "stderr",
     "output_type": "stream",
     "text": [
      "\n",
      "\n",
      "\n",
      "\n",
      "\n",
      " 78%|██████████████████████████████████████████████████████████████▍                 | 156/200 [00:50<00:15,  2.78it/s]"
     ]
    },
    {
     "name": "stdout",
     "output_type": "stream",
     "text": [
      "4.017618401765957*(x0)**2 + 10.017146822283904*(x1)**3 \n"
     ]
    },
    {
     "name": "stderr",
     "output_type": "stream",
     "text": [
      "\n",
      "\n",
      "\n",
      "\n",
      "\n",
      " 78%|██████████████████████████████████████████████████████████████▊                 | 157/200 [00:50<00:14,  2.98it/s]"
     ]
    },
    {
     "name": "stdout",
     "output_type": "stream",
     "text": [
      "4.017618401765957*(x0)**2 + 10.017146822283904*(x1)**3 \n"
     ]
    },
    {
     "name": "stderr",
     "output_type": "stream",
     "text": [
      "\n",
      "\n",
      "\n",
      "\n",
      "\n",
      " 79%|███████████████████████████████████████████████████████████████▏                | 158/200 [00:51<00:13,  3.01it/s]"
     ]
    },
    {
     "name": "stdout",
     "output_type": "stream",
     "text": [
      "4.017618401765957*(x0)**2 + 10.017146822283904*(x1)**3 \n"
     ]
    },
    {
     "name": "stderr",
     "output_type": "stream",
     "text": [
      "\n",
      "\n",
      "\n",
      "\n",
      "\n",
      " 80%|███████████████████████████████████████████████████████████████▌                | 159/200 [00:51<00:13,  3.03it/s]"
     ]
    },
    {
     "name": "stdout",
     "output_type": "stream",
     "text": [
      "4.017618401765957*(x0)**2 + 10.017146822283904*(x1)**3 \n"
     ]
    },
    {
     "name": "stderr",
     "output_type": "stream",
     "text": [
      "\n",
      "\n",
      "\n",
      "\n",
      "\n",
      " 80%|████████████████████████████████████████████████████████████████                | 160/200 [00:51<00:13,  3.05it/s]"
     ]
    },
    {
     "name": "stdout",
     "output_type": "stream",
     "text": [
      "4.017618398774836*(x0)**2 + 10.017146822283904*(x1)**3 \n"
     ]
    },
    {
     "name": "stderr",
     "output_type": "stream",
     "text": [
      "\n",
      "\n",
      "\n",
      "\n",
      "\n",
      " 80%|████████████████████████████████████████████████████████████████▍               | 161/200 [00:52<00:12,  3.09it/s]"
     ]
    },
    {
     "name": "stdout",
     "output_type": "stream",
     "text": [
      "4.017618398774836*(x0)**2 + 10.017146822283904*(x1)**3 \n"
     ]
    },
    {
     "name": "stderr",
     "output_type": "stream",
     "text": [
      "\n",
      "\n",
      "\n",
      "\n",
      "\n",
      " 81%|████████████████████████████████████████████████████████████████▊               | 162/200 [00:52<00:11,  3.17it/s]"
     ]
    },
    {
     "name": "stdout",
     "output_type": "stream",
     "text": [
      "4.017618398774836*(x0)**2 + 10.017146822283904*(x1)**3 \n"
     ]
    },
    {
     "name": "stderr",
     "output_type": "stream",
     "text": [
      "\n",
      "\n",
      "\n",
      "\n",
      "\n",
      " 82%|█████████████████████████████████████████████████████████████████▏              | 163/200 [00:52<00:12,  3.01it/s]"
     ]
    },
    {
     "name": "stdout",
     "output_type": "stream",
     "text": [
      "4.017618398774836*(x0)**2 + 10.017146822283904*(x1)**3 \n"
     ]
    },
    {
     "name": "stderr",
     "output_type": "stream",
     "text": [
      "\n",
      "\n",
      "\n",
      "\n",
      "\n",
      " 82%|█████████████████████████████████████████████████████████████████▌              | 164/200 [00:53<00:11,  3.11it/s]"
     ]
    },
    {
     "name": "stdout",
     "output_type": "stream",
     "text": [
      "4.017618398774836*(x0)**2 + 10.017146822283904*(x1)**3 \n"
     ]
    },
    {
     "name": "stderr",
     "output_type": "stream",
     "text": [
      "\n",
      "\n",
      "\n",
      "\n",
      "\n",
      " 82%|██████████████████████████████████████████████████████████████████              | 165/200 [00:53<00:11,  3.04it/s]"
     ]
    },
    {
     "name": "stdout",
     "output_type": "stream",
     "text": [
      "4.017618398774836*(x0)**2 + 10.017146822283904*(x1)**3 \n"
     ]
    },
    {
     "name": "stderr",
     "output_type": "stream",
     "text": [
      "\n",
      "\n",
      "\n",
      "\n",
      "\n",
      " 83%|██████████████████████████████████████████████████████████████████▍             | 166/200 [00:53<00:10,  3.19it/s]"
     ]
    },
    {
     "name": "stdout",
     "output_type": "stream",
     "text": [
      "4.017618398774836*(x0)**2 + 10.017146822283904*(x1)**3 \n"
     ]
    },
    {
     "name": "stderr",
     "output_type": "stream",
     "text": [
      "\n",
      "\n",
      "\n",
      "\n",
      "\n",
      " 84%|██████████████████████████████████████████████████████████████████▊             | 167/200 [00:54<00:10,  3.12it/s]"
     ]
    },
    {
     "name": "stdout",
     "output_type": "stream",
     "text": [
      "4.017618398774836*(x0)**2 + 10.017146822283904*(x1)**3 \n"
     ]
    },
    {
     "name": "stderr",
     "output_type": "stream",
     "text": [
      "\n",
      "\n",
      "\n",
      "\n",
      "\n",
      " 84%|███████████████████████████████████████████████████████████████████▏            | 168/200 [00:54<00:09,  3.26it/s]"
     ]
    },
    {
     "name": "stdout",
     "output_type": "stream",
     "text": [
      "4.017618398635046*(x0)**2 + 10.017146822283904*(x1)**3 \n"
     ]
    },
    {
     "name": "stderr",
     "output_type": "stream",
     "text": [
      "\n",
      "\n",
      "\n",
      "\n",
      "\n",
      " 84%|███████████████████████████████████████████████████████████████████▌            | 169/200 [00:54<00:09,  3.13it/s]"
     ]
    },
    {
     "name": "stdout",
     "output_type": "stream",
     "text": [
      "4.017618398635046*(x0)**2 + 10.017146822283904*(x1)**3 \n"
     ]
    },
    {
     "name": "stderr",
     "output_type": "stream",
     "text": [
      "\n",
      "\n",
      "\n",
      "\n",
      "\n",
      " 85%|████████████████████████████████████████████████████████████████████            | 170/200 [00:54<00:09,  3.23it/s]"
     ]
    },
    {
     "name": "stdout",
     "output_type": "stream",
     "text": [
      "4.017618398635046*(x0)**2 + 10.017146822283904*(x1)**3 \n"
     ]
    },
    {
     "name": "stderr",
     "output_type": "stream",
     "text": [
      "\n",
      "\n",
      "\n",
      "\n",
      "\n",
      " 86%|████████████████████████████████████████████████████████████████████▍           | 171/200 [00:55<00:09,  3.16it/s]"
     ]
    },
    {
     "name": "stdout",
     "output_type": "stream",
     "text": [
      "4.017618398635046*(x0)**2 + 10.017146822283904*(x1)**3 \n"
     ]
    },
    {
     "name": "stderr",
     "output_type": "stream",
     "text": [
      "\n",
      "\n",
      "\n",
      "\n",
      "\n",
      " 86%|████████████████████████████████████████████████████████████████████▊           | 172/200 [00:55<00:09,  3.07it/s]"
     ]
    },
    {
     "name": "stdout",
     "output_type": "stream",
     "text": [
      "4.017618398635046*(x0)**2 + 10.017146822283904*(x1)**3 \n"
     ]
    },
    {
     "name": "stderr",
     "output_type": "stream",
     "text": [
      "\n",
      "\n",
      "\n",
      "\n",
      "\n",
      " 86%|█████████████████████████████████████████████████████████████████████▏          | 173/200 [00:55<00:08,  3.10it/s]"
     ]
    },
    {
     "name": "stdout",
     "output_type": "stream",
     "text": [
      "4.017618398635046*(x0)**2 + 10.017146822283904*(x1)**3 \n"
     ]
    },
    {
     "name": "stderr",
     "output_type": "stream",
     "text": [
      "\n",
      "\n",
      "\n",
      "\n",
      "\n",
      " 87%|█████████████████████████████████████████████████████████████████████▌          | 174/200 [00:56<00:09,  2.85it/s]"
     ]
    },
    {
     "name": "stdout",
     "output_type": "stream",
     "text": [
      "4.017618398635046*(x0)**2 + 10.017146822283904*(x1)**3 \n"
     ]
    },
    {
     "name": "stderr",
     "output_type": "stream",
     "text": [
      "\n",
      "\n",
      "\n",
      "\n",
      "\n",
      " 88%|██████████████████████████████████████████████████████████████████████          | 175/200 [00:56<00:08,  3.02it/s]"
     ]
    },
    {
     "name": "stdout",
     "output_type": "stream",
     "text": [
      "4.017618398635046*(x0)**2 + 10.017146822283904*(x1)**3 \n"
     ]
    },
    {
     "name": "stderr",
     "output_type": "stream",
     "text": [
      "\n",
      "\n",
      "\n",
      "\n",
      "\n",
      " 88%|██████████████████████████████████████████████████████████████████████▍         | 176/200 [00:56<00:07,  3.15it/s]"
     ]
    },
    {
     "name": "stdout",
     "output_type": "stream",
     "text": [
      "4.017618398635046*(x0)**2 + 10.017146822283904*(x1)**3 \n"
     ]
    },
    {
     "name": "stderr",
     "output_type": "stream",
     "text": [
      "\n",
      "\n",
      "\n",
      "\n",
      "\n",
      " 88%|██████████████████████████████████████████████████████████████████████▊         | 177/200 [00:57<00:07,  3.09it/s]"
     ]
    },
    {
     "name": "stdout",
     "output_type": "stream",
     "text": [
      "4.017618398635046*(x0)**2 + 10.017146822283904*(x1)**3 \n"
     ]
    },
    {
     "name": "stderr",
     "output_type": "stream",
     "text": [
      "\n",
      "\n",
      "\n",
      "\n",
      "\n",
      " 89%|███████████████████████████████████████████████████████████████████████▏        | 178/200 [00:57<00:06,  3.19it/s]"
     ]
    },
    {
     "name": "stdout",
     "output_type": "stream",
     "text": [
      "4.017618398635046*(x0)**2 + 10.017146822283904*(x1)**3 \n"
     ]
    },
    {
     "name": "stderr",
     "output_type": "stream",
     "text": [
      "\n",
      "\n",
      "\n",
      "\n",
      "\n",
      " 90%|███████████████████████████████████████████████████████████████████████▌        | 179/200 [00:57<00:06,  3.11it/s]"
     ]
    },
    {
     "name": "stdout",
     "output_type": "stream",
     "text": [
      "4.017618398635046*(x0)**2 + 10.017146822283904*(x1)**3 \n"
     ]
    },
    {
     "name": "stderr",
     "output_type": "stream",
     "text": [
      "\n",
      "\n",
      "\n",
      "\n",
      "\n",
      " 90%|████████████████████████████████████████████████████████████████████████        | 180/200 [00:58<00:06,  3.19it/s]"
     ]
    },
    {
     "name": "stdout",
     "output_type": "stream",
     "text": [
      "4.017618398635046*(x0)**2 + 10.017146822283904*(x1)**3 \n"
     ]
    },
    {
     "name": "stderr",
     "output_type": "stream",
     "text": [
      "\n",
      "\n",
      "\n",
      "\n",
      "\n",
      " 90%|████████████████████████████████████████████████████████████████████████▍       | 181/200 [00:58<00:05,  3.27it/s]"
     ]
    },
    {
     "name": "stdout",
     "output_type": "stream",
     "text": [
      "4.017618398635046*(x0)**2 + 10.017146822283904*(x1)**3 \n"
     ]
    },
    {
     "name": "stderr",
     "output_type": "stream",
     "text": [
      "\n",
      "\n",
      "\n",
      "\n",
      "\n",
      " 91%|████████████████████████████████████████████████████████████████████████▊       | 182/200 [00:58<00:05,  3.15it/s]"
     ]
    },
    {
     "name": "stdout",
     "output_type": "stream",
     "text": [
      "4.017618398635046*(x0)**2 + 10.017146822283904*(x1)**3 \n"
     ]
    },
    {
     "name": "stderr",
     "output_type": "stream",
     "text": [
      "\n",
      "\n",
      "\n",
      "\n",
      "\n",
      " 92%|█████████████████████████████████████████████████████████████████████████▏      | 183/200 [00:59<00:05,  3.07it/s]"
     ]
    },
    {
     "name": "stdout",
     "output_type": "stream",
     "text": [
      "4.017618398635046*(x0)**2 + 10.017146822283904*(x1)**3 \n"
     ]
    },
    {
     "name": "stderr",
     "output_type": "stream",
     "text": [
      "\n",
      "\n",
      "\n",
      "\n",
      "\n",
      " 92%|█████████████████████████████████████████████████████████████████████████▌      | 184/200 [00:59<00:05,  3.00it/s]"
     ]
    },
    {
     "name": "stdout",
     "output_type": "stream",
     "text": [
      "4.017618398635046*(x0)**2 + 10.017146822283904*(x1)**3 \n"
     ]
    },
    {
     "name": "stderr",
     "output_type": "stream",
     "text": [
      "\n",
      "\n",
      "\n",
      "\n",
      "\n",
      " 92%|██████████████████████████████████████████████████████████████████████████      | 185/200 [00:59<00:04,  3.00it/s]"
     ]
    },
    {
     "name": "stdout",
     "output_type": "stream",
     "text": [
      "4.017618398635046*(x0)**2 + 10.017146822283904*(x1)**3 \n"
     ]
    },
    {
     "name": "stderr",
     "output_type": "stream",
     "text": [
      "\n",
      "\n",
      "\n",
      "\n",
      "\n",
      " 93%|██████████████████████████████████████████████████████████████████████████▍     | 186/200 [01:00<00:04,  2.96it/s]"
     ]
    },
    {
     "name": "stdout",
     "output_type": "stream",
     "text": [
      "4.017618398635046*(x0)**2 + 10.017146822283904*(x1)**3 \n"
     ]
    },
    {
     "name": "stderr",
     "output_type": "stream",
     "text": [
      "\n",
      "\n",
      "\n",
      "\n",
      "\n",
      " 94%|██████████████████████████████████████████████████████████████████████████▊     | 187/200 [01:00<00:04,  3.14it/s]"
     ]
    },
    {
     "name": "stdout",
     "output_type": "stream",
     "text": [
      "4.017618398635046*(x0)**2 + 10.017146822283904*(x1)**3 \n"
     ]
    },
    {
     "name": "stderr",
     "output_type": "stream",
     "text": [
      "\n",
      "\n",
      "\n",
      "\n",
      "\n",
      " 94%|███████████████████████████████████████████████████████████████████████████▏    | 188/200 [01:00<00:03,  3.09it/s]"
     ]
    },
    {
     "name": "stdout",
     "output_type": "stream",
     "text": [
      "4.017618398635046*(x0)**2 + 10.017146822283904*(x1)**3 \n"
     ]
    },
    {
     "name": "stderr",
     "output_type": "stream",
     "text": [
      "\n",
      "\n",
      "\n",
      "\n",
      "\n",
      " 94%|███████████████████████████████████████████████████████████████████████████▌    | 189/200 [01:01<00:03,  3.02it/s]"
     ]
    },
    {
     "name": "stdout",
     "output_type": "stream",
     "text": [
      "4.017618398635046*(x0)**2 + 10.017146822283904*(x1)**3 \n"
     ]
    },
    {
     "name": "stderr",
     "output_type": "stream",
     "text": [
      "\n",
      "\n",
      "\n",
      "\n",
      "\n",
      " 95%|████████████████████████████████████████████████████████████████████████████    | 190/200 [01:01<00:03,  3.11it/s]"
     ]
    },
    {
     "name": "stdout",
     "output_type": "stream",
     "text": [
      "4.017618398635046*(x0)**2 + 10.017146822283904*(x1)**3 \n"
     ]
    },
    {
     "name": "stderr",
     "output_type": "stream",
     "text": [
      "\n",
      "\n",
      "\n",
      "\n",
      "\n",
      " 96%|████████████████████████████████████████████████████████████████████████████▍   | 191/200 [01:01<00:02,  3.05it/s]"
     ]
    },
    {
     "name": "stdout",
     "output_type": "stream",
     "text": [
      "4.017618398635046*(x0)**2 + 10.017146822283904*(x1)**3 \n"
     ]
    },
    {
     "name": "stderr",
     "output_type": "stream",
     "text": [
      "\n",
      "\n",
      "\n",
      "\n",
      "\n",
      " 96%|████████████████████████████████████████████████████████████████████████████▊   | 192/200 [01:02<00:02,  3.06it/s]"
     ]
    },
    {
     "name": "stdout",
     "output_type": "stream",
     "text": [
      "4.017618398635046*(x0)**2 + 10.017146822283904*(x1)**3 \n"
     ]
    },
    {
     "name": "stderr",
     "output_type": "stream",
     "text": [
      "\n",
      "\n",
      "\n",
      "\n",
      "\n",
      " 96%|█████████████████████████████████████████████████████████████████████████████▏  | 193/200 [01:02<00:02,  2.94it/s]"
     ]
    },
    {
     "name": "stdout",
     "output_type": "stream",
     "text": [
      "4.017618398635046*(x0)**2 + 10.017146822283904*(x1)**3 \n"
     ]
    },
    {
     "name": "stderr",
     "output_type": "stream",
     "text": [
      "\n",
      "\n",
      "\n",
      "\n",
      "\n",
      " 97%|█████████████████████████████████████████████████████████████████████████████▌  | 194/200 [01:02<00:02,  2.93it/s]"
     ]
    },
    {
     "name": "stdout",
     "output_type": "stream",
     "text": [
      "4.017618398635046*(x0)**2 + 10.017146822283904*(x1)**3 \n"
     ]
    },
    {
     "name": "stderr",
     "output_type": "stream",
     "text": [
      "\n",
      "\n",
      "\n",
      "\n",
      "\n",
      " 98%|██████████████████████████████████████████████████████████████████████████████  | 195/200 [01:03<00:01,  2.94it/s]"
     ]
    },
    {
     "name": "stdout",
     "output_type": "stream",
     "text": [
      "4.017618398635046*(x0)**2 + 10.017146822283904*(x1)**3 \n"
     ]
    },
    {
     "name": "stderr",
     "output_type": "stream",
     "text": [
      "\n",
      "\n",
      "\n",
      "\n",
      "\n",
      " 98%|██████████████████████████████████████████████████████████████████████████████▍ | 196/200 [01:03<00:01,  2.93it/s]"
     ]
    },
    {
     "name": "stdout",
     "output_type": "stream",
     "text": [
      "4.017618398635046*(x0)**2 + 10.017146822283904*(x1)**3 \n"
     ]
    },
    {
     "name": "stderr",
     "output_type": "stream",
     "text": [
      "\n",
      "\n",
      "\n",
      "\n",
      "\n",
      " 98%|██████████████████████████████████████████████████████████████████████████████▊ | 197/200 [01:03<00:00,  3.11it/s]"
     ]
    },
    {
     "name": "stdout",
     "output_type": "stream",
     "text": [
      "4.017618398635046*(x0)**2 + 10.017146822283904*(x1)**3 \n"
     ]
    },
    {
     "name": "stderr",
     "output_type": "stream",
     "text": [
      "\n",
      "\n",
      "\n",
      "\n",
      "\n",
      " 99%|███████████████████████████████████████████████████████████████████████████████▏| 198/200 [01:04<00:00,  3.17it/s]"
     ]
    },
    {
     "name": "stdout",
     "output_type": "stream",
     "text": [
      "4.017618398635046*(x0)**2 + 10.017146822283904*(x1)**3 \n"
     ]
    },
    {
     "name": "stderr",
     "output_type": "stream",
     "text": [
      "\n",
      "\n",
      "\n",
      "\n",
      "\n",
      "100%|███████████████████████████████████████████████████████████████████████████████▌| 199/200 [01:04<00:00,  3.09it/s]"
     ]
    },
    {
     "name": "stdout",
     "output_type": "stream",
     "text": [
      "4.017618398635046*(x0)**2 + 10.017146822283904*(x1)**3 \n"
     ]
    },
    {
     "name": "stderr",
     "output_type": "stream",
     "text": [
      "\n",
      "\n",
      "\n",
      "\n",
      "\n",
      "100%|████████████████████████████████████████████████████████████████████████████████| 200/200 [01:04<00:00,  3.09it/s]\n"
     ]
    }
   ],
   "source": [
    "fitnesses = []\n",
    "x = []\n",
    "for i in tqdm(range(200)):\n",
    "    d.cycle()\n",
    "    best = d.get_best_func()\n",
    "    fitnesses.append(best.get_fitness())\n",
    "    print(best)\n",
    "    x.append(i)"
   ]
  },
  {
   "cell_type": "code",
   "execution_count": 448,
   "metadata": {},
   "outputs": [
    {
     "name": "stdout",
     "output_type": "stream",
     "text": [
      "4.017618398635046*(x0)**2 + 10.017146822283904*(x1)**3 \n"
     ]
    }
   ],
   "source": [
    "f = d.get_best_func()\n",
    "print(f)"
   ]
  },
  {
   "cell_type": "code",
   "execution_count": 449,
   "metadata": {},
   "outputs": [
    {
     "data": {
      "text/plain": [
       "[<matplotlib.lines.Line2D at 0x132a8f45c08>]"
      ]
     },
     "execution_count": 449,
     "metadata": {},
     "output_type": "execute_result"
    },
    {
     "data": {
      "image/png": "[encoded data removed]",
      "text/plain": [
       "<Figure size 432x288 with 1 Axes>"
      ]
     },
     "metadata": {
      "needs_background": "light"
     },
     "output_type": "display_data"
    }
   ],
   "source": [
    "I = Individual([10, 4], [3, 2], ['+'])\n",
    "plt.plot(x, fitnesses)\n",
    "    "
   ]
  },
  {
   "cell_type": "code",
   "execution_count": 450,
   "metadata": {},
   "outputs": [
    {
     "name": "stdout",
     "output_type": "stream",
     "text": [
      "-88.09207553124433\n"
     ]
    }
   ],
   "source": [
    "diff = 0\n",
    "for i, row in enumerate(data):\n",
    "    diff += (y[i] - f.calc_row(row))\n",
    "print(diff/len(y))"
   ]
  },
  {
   "cell_type": "code",
   "execution_count": null,
   "metadata": {},
   "outputs": [],
   "source": []
  },
  {
   "cell_type": "code",
   "execution_count": null,
   "metadata": {},
   "outputs": [],
   "source": []
  }
 ],
 "metadata": {
  "kernelspec": {
   "display_name": "Tensorflow-GPU",
   "language": "python",
   "name": "tf_gpu"
  },
  "language_info": {
   "codemirror_mode": {
    "name": "ipython",
    "version": 3
   },
   "file_extension": ".py",
   "mimetype": "text/x-python",
   "name": "python",
   "nbconvert_exporter": "python",
   "pygments_lexer": "ipython3",
   "version": "3.7.4"
  }
 },
 "nbformat": 4,
 "nbformat_minor": 2
}
