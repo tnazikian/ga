{
 "cells": [
  {
   "cell_type": "code",
   "execution_count": 119,
   "metadata": {},
   "outputs": [],
   "source": [
    "from ga import Population\n",
    "from helper import *\n",
    "from Individual import Individual\n",
    "\n",
    "import pickle\n",
    "import numpy as np\n",
    "from matplotlib import pyplot as plt\n",
    "from tqdm import tqdm"
   ]
  },
  {
   "cell_type": "code",
   "execution_count": 126,
   "metadata": {},
   "outputs": [],
   "source": [
    "# Create variables\n",
    "x1 = np.linspace(-100, 100, 20)\n",
    "x2 = np.linspace(-100, 100, 20)\n",
    "data = np.stack([x1, x2], axis=1)\n",
    "\n",
    "# Create target\n",
    "y = 10*x1**3 + 4*x2**2"
   ]
  },
  {
   "cell_type": "code",
   "execution_count": 121,
   "metadata": {},
   "outputs": [],
   "source": [
    "# Initialize population\n",
    "num_individuals = 200\n",
    "num_variables = 2\n",
    "# Define ranges over which coefficients and exponents are randomly generated\n",
    "coeff_min = 0\n",
    "coeff_max = 10\n",
    "exp_min = 0\n",
    "exp_max = 4\n",
    "operators = ['+','*']\n",
    "\n",
    "individuals = Population.generate_individuals(num_individuals,\n",
    "                                              num_variables,\n",
    "                                              coeff_min, coeff_max,\n",
    "                                              exp_min, exp_max, \n",
    "                                              operators)\n",
    "d = Population(individuals, data, y)"
   ]
  },
  {
   "cell_type": "code",
   "execution_count": 122,
   "metadata": {},
   "outputs": [
    {
     "name": "stderr",
     "output_type": "stream",
     "text": [
      "100%|████████████████████████████████████████████████████████████████████████████████| 250/250 [00:11<00:00, 21.05it/s]\n"
     ]
    }
   ],
   "source": [
    "# Assign number of cycles and begin training\n",
    "fitnesses = []\n",
    "MSE = []\n",
    "num_cycles = 250\n",
    "for i in tqdm(range(num_cycles)):\n",
    "    d.cycle()\n",
    "    best = d.get_best_func()\n",
    "    fitnesses.append(best.get_fitness())\n",
    "    diff = 0\n",
    "    # Calculate MSE\n",
    "    for i, row in enumerate(data):\n",
    "        diff += (y[i] - best.calc_row(row))**2\n",
    "    MSE.append(diff/len(y))\n",
    "    #print(best)"
   ]
  },
  {
   "cell_type": "code",
   "execution_count": 123,
   "metadata": {},
   "outputs": [
    {
     "data": {
      "text/plain": [
       "Text(0, 0.5, 'Fitness')"
      ]
     },
     "execution_count": 123,
     "metadata": {},
     "output_type": "execute_result"
    },
    {
     "data": {
      "image/png": "[encoded data removed]",
      "text/plain": [
       "<Figure size 432x288 with 1 Axes>"
      ]
     },
     "metadata": {
      "needs_background": "light"
     },
     "output_type": "display_data"
    }
   ],
   "source": [
    "# View fitness scores over time\n",
    "plt.plot(np.asarray(range(0, num_cycles)), fitnesses)\n",
    "plt.title(\"Fitness of Best Candidate over Time\")\n",
    "plt.xlabel(\"cycle\")\n",
    "plt.ylabel(\"Fitness\")"
   ]
  },
  {
   "cell_type": "code",
   "execution_count": 124,
   "metadata": {
    "scrolled": true
   },
   "outputs": [
    {
     "data": {
      "text/plain": [
       "Text(0, 0.5, 'MSE')"
      ]
     },
     "execution_count": 124,
     "metadata": {},
     "output_type": "execute_result"
    },
    {
     "data": {
      "image/png": "[encoded data removed]",
      "text/plain": [
       "<Figure size 432x288 with 1 Axes>"
      ]
     },
     "metadata": {
      "needs_background": "light"
     },
     "output_type": "display_data"
    }
   ],
   "source": [
    "# View mean square errors over time\n",
    "plt.plot(np.asarray(range(0, num_cycles)), MSE)\n",
    "plt.title(\"MSE of Best Candidate over Time\")\n",
    "plt.xlabel(\"cycle\")\n",
    "plt.ylabel(\"MSE\")"
   ]
  },
  {
   "cell_type": "code",
   "execution_count": 125,
   "metadata": {},
   "outputs": [
    {
     "name": "stdout",
     "output_type": "stream",
     "text": [
      "1.3618515322155178*(x0)**0 * 7.372511920888622*(x1)**3 \n"
     ]
    }
   ],
   "source": [
    "print(best)     #display best candidate function"
   ]
  },
  {
   "cell_type": "code",
   "execution_count": null,
   "metadata": {},
   "outputs": [],
   "source": []
  },
  {
   "cell_type": "code",
   "execution_count": null,
   "metadata": {},
   "outputs": [],
   "source": []
  }
 ],
 "metadata": {
  "kernelspec": {
   "display_name": "Tensorflow-GPU",
   "language": "python",
   "name": "tf_gpu"
  },
  "language_info": {
   "codemirror_mode": {
    "name": "ipython",
    "version": 3
   },
   "file_extension": ".py",
   "mimetype": "text/x-python",
   "name": "python",
   "nbconvert_exporter": "python",
   "pygments_lexer": "ipython3",
   "version": "3.7.4"
  }
 },
 "nbformat": 4,
 "nbformat_minor": 2
}
