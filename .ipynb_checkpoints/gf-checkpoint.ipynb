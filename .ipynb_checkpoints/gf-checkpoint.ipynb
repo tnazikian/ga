{
 "cells": [
  {
   "cell_type": "code",
   "execution_count": 369,
   "metadata": {},
   "outputs": [],
   "source": [
    "import tensorflow as tf\n",
    "from tensorflow import keras\n",
    "from sklearn.model_selection import train_test_split\n",
    "\n",
    "X_train, X_test, y_train, y_test = train_test_split(data/10, y, test_size=0.33, random_state=42)\n",
    "\n"
   ]
  },
  {
   "cell_type": "code",
   "execution_count": 372,
   "metadata": {},
   "outputs": [],
   "source": [
    "# lr = 0.5\n",
    "# epochs = 10\n",
    "# batch_size = 30\n",
    "# x = tf.placeholder(tf.float32, [None, 3])\n",
    "# y = tf.placeholder(tf.float32, [None, 1])\n",
    "\n",
    "# # now declare the weights connecting the input to the hidden layer\n",
    "# W1 = tf.Variable(tf.random_normal([3, 20], stddev=0.03), name='W1')\n",
    "# b1 = tf.Variable(tf.random_normal([20]), name='b1')\n",
    "# # and the weights connecting the hidden layer to the output layer\n",
    "# W2 = tf.Variable(tf.random_normal([20, 10], stddev=0.03), name='W2')\n",
    "# b2 = tf.Variable(tf.random_normal([10]), name='b2')\n",
    "\n",
    "# W3 = tf.Variable(tf.random_normal([10, 1], stddev=0.03), name='W2')\n",
    "# b3 = tf.Variable(tf.random_normal([1]), name='b2')\n",
    "\n",
    "\n",
    "# # calculate the output of the hidden layer\n",
    "# hidden_out = tf.add(tf.matmul(x, W1), b1)\n",
    "# hidden_out = tf.nn.relu(hidden_out)\n",
    "# hidden_out = tf.add(tf.matmul(hidden_out, W2), b2)\n",
    "# hidden_out = tf.nn.relu(hidden_out)\n",
    "# hidden_out = tf.add(tf.matmul(hidden_out, W3), b3)\n",
    "# hidden_out = tf.nn.softmax(hidden_out)\n",
    "\n",
    "\n",
    "# # a = tf.Variable(1, name='a')\n",
    "# # b = tf.Variable(1, name='b')\n",
    "# # c = tf.Variable(1, name='c')\n",
    "\n",
    "# c2 = tf.math.square(c, name='csquared')\n",
    "# sqrtb = tf.math.sqrt(b, name='bsqrt')\n",
    "# cb = tf.multiply(c2, sqrtb, name='cb')\n",
    "# out = tf.add(a, cb, name='out')\n",
    "\n",
    "# init_op = tf.global_variables_initializer()\n"
   ]
  },
  {
   "cell_type": "code",
   "execution_count": 411,
   "metadata": {},
   "outputs": [],
   "source": [
    "import numpy as np\n",
    "import matplotlib.pyplot as plt\n",
    "%matplotlib inline\n",
    "\n",
    "def noisy_gen_data(num_data, high=10):\n",
    "    a=np.random.uniform(low=0.0, high=high, size=num_data)\n",
    "    b=np.random.uniform(low=0.0, high=high, size=num_data)\n",
    "    c=np.random.uniform(low=0.0, high=high, size=num_data)\n",
    "\n",
    "    y=a+np.sqrt(b)*c**2\n",
    "\n",
    "    f = plt.figure(figsize=(32, 14))\n",
    "    ax1 = f.add_subplot(131)\n",
    "    ax2 = f.add_subplot(132)\n",
    "    ax3 = f.add_subplot(133)\n",
    "    \n",
    "    \n",
    "    ax1.hist2d(a,y,100,rasterized=True)\n",
    "    ax1.set_xlabel('a')\n",
    "    ax1.set_ylabel('y')\n",
    "\n",
    "    ax2.hist2d(b,y,100,rasterized=True)\n",
    "    ax2.set_xlabel('b')\n",
    "    ax2.set_ylabel('y')\n",
    "\n",
    "    ax3.hist2d(c,y,100,rasterized=True)\n",
    "    ax3.set_xlabel('c')\n",
    "    ax3.set_ylabel('y')\n",
    "    \n",
    "    return a, b, c, y"
   ]
  },
  {
   "cell_type": "code",
   "execution_count": 412,
   "metadata": {},
   "outputs": [
    {
     "data": {
      "image/png": "[encoded data removed]",
      "text/plain": [
       "<Figure size 2304x1008 with 3 Axes>"
      ]
     },
     "metadata": {
      "needs_background": "light"
     },
     "output_type": "display_data"
    }
   ],
   "source": [
    "a, b, c, y = noisy_gen_data(100) \n",
    "data = np.stack([a, b, c], axis=1)"
   ]
  },
  {
   "cell_type": "code",
   "execution_count": 255,
   "metadata": {},
   "outputs": [],
   "source": [
    "import numpy as np\n",
    "from matplotlib import pyplot as plt\n",
    "\n",
    "a = np.array(np.random.uniform(low=-1.0, high=1.0, size=100))\n",
    "b = np.array(np.random.uniform(low=-1.0, high=1.0, size=100))\n",
    "c = np.array(np.random.uniform(low=-1.0, high=1.0, size=100))\n",
    "# y = a + b*c*a"
   ]
  },
  {
   "cell_type": "code",
   "execution_count": 373,
   "metadata": {},
   "outputs": [
    {
     "ename": "SyntaxError",
     "evalue": "invalid syntax (<ipython-input-373-fac73f3384ea>, line 3)",
     "output_type": "error",
     "traceback": [
      "\u001b[1;36m  File \u001b[1;32m\"<ipython-input-373-fac73f3384ea>\"\u001b[1;36m, line \u001b[1;32m3\u001b[0m\n\u001b[1;33m    c = np.array(np.random.uniform(low=-1.0, high=1.0, size=100))data = np.stack([a, b, c], axis=1)\u001b[0m\n\u001b[1;37m                                                                    ^\u001b[0m\n\u001b[1;31mSyntaxError\u001b[0m\u001b[1;31m:\u001b[0m invalid syntax\n"
     ]
    }
   ],
   "source": [
    "a = np.array(np.random.uniform(low=-1.0, high=1.0, size=100))\n",
    "b = np.array(np.random.uniform(low=-1.0, high=1.0, size=100))\n",
    "c = np.array(np.random.uniform(low=-1.0, high=1.0, size=100))\n",
    "data = np.stack([a, b, c], axis=1)\n"
   ]
  },
  {
   "cell_type": "code",
   "execution_count": 109,
   "metadata": {},
   "outputs": [
    {
     "data": {
      "text/plain": [
       "array([[0.29409655, 0.04733197],\n",
       "       [0.04733197, 0.38859492]])"
      ]
     },
     "execution_count": 109,
     "metadata": {},
     "output_type": "execute_result"
    }
   ],
   "source": [
    "np.cov(b, y)"
   ]
  },
  {
   "cell_type": "code",
   "execution_count": 17,
   "metadata": {},
   "outputs": [
    {
     "data": {
      "text/plain": [
       "array([4.03057138])"
      ]
     },
     "execution_count": 17,
     "metadata": {},
     "output_type": "execute_result"
    }
   ],
   "source": [
    "np.correlate(c, y)"
   ]
  },
  {
   "cell_type": "code",
   "execution_count": 31,
   "metadata": {},
   "outputs": [
    {
     "data": {
      "text/plain": [
       "5"
      ]
     },
     "execution_count": 31,
     "metadata": {},
     "output_type": "execute_result"
    }
   ],
   "source": [
    "np.random.randint(low=0, high=9)"
   ]
  },
  {
   "cell_type": "code",
   "execution_count": 154,
   "metadata": {},
   "outputs": [
    {
     "data": {
      "text/plain": [
       "[0, 1, 3, 2]"
      ]
     },
     "execution_count": 154,
     "metadata": {},
     "output_type": "execute_result"
    }
   ],
   "source": [
    "l = [1, 2, 5, 4]\n",
    "sorted(range(len(l)), key=lambda k: l[k])"
   ]
  },
  {
   "cell_type": "code",
   "execution_count": 147,
   "metadata": {},
   "outputs": [
    {
     "data": {
      "text/plain": [
       "array([0.4, 0.3, 0.2, 0.1])"
      ]
     },
     "execution_count": 147,
     "metadata": {},
     "output_type": "execute_result"
    }
   ],
   "source": [
    "d = [4, 3, 2, 1]\n",
    "sum1 = np.sum(d)\n",
    "prob=d/sum1\n",
    "prob"
   ]
  },
  {
   "cell_type": "code",
   "execution_count": 177,
   "metadata": {},
   "outputs": [
    {
     "name": "stdout",
     "output_type": "stream",
     "text": [
      "0\n",
      "1\n",
      "2\n",
      "3\n"
     ]
    }
   ],
   "source": [
    "for i in range(len(d)):\n",
    "    print(i)"
   ]
  },
  {
   "cell_type": "code",
   "execution_count": 1736,
   "metadata": {},
   "outputs": [],
   "source": [
    "import copy\n",
    "MATE=0.2\n",
    "MUTATE=0.2\n",
    "INDIVIDUALS=100\n",
    "class Population:\n",
    "    MATE=0.2\n",
    "    MUTATE=0.2\n",
    "    def __init__(self, individuals, data, y):\n",
    "        self.individuals=individuals\n",
    "        if len(individuals) < INDIVIDUALS:\n",
    "            self.pop_size=INDIVIDUALS\n",
    "        else:\n",
    "            self.pop_size=len(individuals)\n",
    "        self.data = data\n",
    "        self.y = y\n",
    "        self.mut_coeffs = [0.1, 1.0]\n",
    "        \n",
    "        self.scores = [individual.calc_fitness(self.data, self.y) \n",
    "             for individual in individuals]\n",
    "        self.best_ind = np.where(self.scores == np.max(self.scores))[0][0]\n",
    "        \n",
    "    def get_best_func(self):\n",
    "        return self.individuals[self.best_ind]\n",
    "#         return self.best_ind\n",
    "        \n",
    "    def new_pop(self, scores):\n",
    "#         scores = [individual.calc_fitness(self.data, self.y) \n",
    "#              for individual in self.individuals]\n",
    "        #sorted_indeces = sorted(range(len(scores)), key=lambda k: scores[k])\n",
    "        sum1 = np.sum(scores)\n",
    "        prob=scores/sum1\n",
    "        #new_pop_ind = np.random.choice(len(self.individuals), self.pop_size, p=prob, replace=True)\n",
    "        new_pop = np.random.choice(self.individuals, int(self.pop_size*4/5), p=prob, replace=True)\n",
    "        #np.append(new_pop, [copy.copy(self.get_best_func())]*(self.pop_size - int(self.pop_size*4/5)))\n",
    "        c, p, o = self.get_best_func().get_coeffs()\n",
    "        new_cand = [Individual(c, p, o) for _ in range(self.pop_size - int(self.pop_size*4/5))]\n",
    "        np.append(new_pop, new_cand)\n",
    "        #get new best solution\n",
    "#         return new_pop_ind\n",
    "        return new_pop\n",
    "        \n",
    "#     def cycle(self):\n",
    "#         self.individuals = self.new_pop(self.scores)\n",
    "#         mate_ind=self.mate()\n",
    "# #         print(mate_ind)\n",
    "# #         print(self.individuals)\n",
    "#         if len(mate_ind) > 0:\n",
    "#             self.mutate(mate_ind)\n",
    "#         self.scores = [individual.calc_fitness(self.data, self.y) \n",
    "#              for individual in self.individuals]\n",
    "#         self.best_ind = np.where(self.scores == np.max(self.scores))[0][0]\n",
    "        \n",
    "    def cycle(self):\n",
    "        self.individuals = self.new_pop(self.scores)\n",
    "        mate_ind=np.random.choice(len(self.individuals), int(len(self.individuals)*MATE))\n",
    "#         print(mate_ind)\n",
    "#         print(self.individuals)\n",
    "        if len(mate_ind) > 0:\n",
    "            self.mutate(mate_ind)\n",
    "        self.scores = [individual.calc_fitness(self.data, self.y) \n",
    "             for individual in self.individuals]\n",
    "        self.best_ind = np.where(self.scores == np.max(self.scores))[0][0]\n",
    "\n",
    "    def mate(self):\n",
    "        #select 20 percent of population to mate\n",
    "        num_to_mate = int(len(self.individuals)*MATE)\n",
    "        if num_to_mate >= 2:\n",
    "            if num_to_mate % 2 == 1:\n",
    "                num_to_mate += 1\n",
    "#             maters = np.random.choice(self.individuals, num_to_mate, replace=False)\n",
    "#             for i in range(len(maters)//2):\n",
    "#                 maters[2*i].mate(maters[2*i+1])\n",
    "                \n",
    "            mating_ind = np.random.choice(len(self.individuals), num_to_mate, replace=False)\n",
    "            for i in range(len(mating_ind)//2):\n",
    "                self.individuals[2*i].mate(self.individuals[2*i+1])\n",
    "            return mating_ind\n",
    "        return None\n",
    "                \n",
    "    def mutate(self, mate_ind):\n",
    "#         num_to_mutate = int(len(self.individuals)*MUTATE)\n",
    "        num_to_mutate = int(len(mate_ind)*MUTATE)\n",
    "        mutate_ind = np.random.choice(mate_ind, num_to_mutate)\n",
    "#         print(num_to_mutate)\n",
    "        if len(mutate_ind) > 0:\n",
    "#             mutate_ind = np.random.choice(len(self.individuals), num_to_mutate)\n",
    "            for i in mutate_ind:\n",
    "#                 self.individuals[i].mutate(self.mut_coeffs)\n",
    "                self.individuals[i].mutate(self.mut_coeffs/\n",
    "                                           (self.get_best_func().get_fitness()))\n",
    "                \n",
    "\n",
    "            \n",
    "        "
   ]
  },
  {
   "cell_type": "code",
   "execution_count": 1737,
   "metadata": {},
   "outputs": [
    {
     "data": {
      "text/plain": [
       "-0.6216637328085857"
      ]
     },
     "execution_count": 1737,
     "metadata": {},
     "output_type": "execute_result"
    }
   ],
   "source": [
    "np.random.normal(0, 1)"
   ]
  },
  {
   "cell_type": "code",
   "execution_count": 1738,
   "metadata": {},
   "outputs": [],
   "source": [
    "import random\n",
    "class Individual:\n",
    "    def __init__(self, coeffs, pows, operators):\n",
    "        if len(coeffs) - 1 != len(operators) or len(coeffs) != len(pows):\n",
    "            raise ValueError(\"check inputs\")\n",
    "        self.coeffs = coeffs\n",
    "        self.pows = pows\n",
    "        self.num_vars = len(coeffs)\n",
    "        self.operators = operators\n",
    "        self.fitness = None\n",
    "        \n",
    "    def mutate(self, coeffs):\n",
    "        if random.random() <= 0.75:\n",
    "            c1 = np.random.choice(len(self.coeffs), 1)[0]\n",
    "            self.coeffs[c1] += coeffs[0]*np.random.normal(0, 1)\n",
    "        else:\n",
    "            c2 = np.random.choice(len(self.pows), 1)[0]\n",
    "            self.pows[c2] += np.random.choice([-1, 1])\n",
    "#         c2 = np.random.choice(len(self.pows), 1)[0]\n",
    "#         c1 = np.random.choice(len(self.coeffs), 1)[0]\n",
    "#         self.coeffs[c1] += coeffs[0]*np.random.normal(0, 1)\n",
    "# #         self.pows[c2] += coeffs[1]*np.random.normal(0, 1)\n",
    "#         self.pows[c2] += np.random.choice([-1, 1])\n",
    "        \n",
    "    def mate(self, individual):\n",
    "        choice = np.random.randint(low=0, high=len(self.coeffs))\n",
    "        c_switch = self.coeffs[choice]\n",
    "        p_switch = self.pows[choice]\n",
    "        if choice != 0:  \n",
    "            o_switch = self.operators[choice-1]\n",
    "        \n",
    "        #switch coeffs\n",
    "        self.coeffs[choice] = individual.coeffs[choice]\n",
    "        self.pows[choice] = individual.pows[choice]\n",
    "        if choice != 0:\n",
    "            self.operators[choice-1] = individual.operators[choice-1]\n",
    "        individual.coeffs[choice] = c_switch\n",
    "        individual.pows[choice] = p_switch\n",
    "        if choice != 0:\n",
    "            individual.operators[choice-1] = o_switch\n",
    "            \n",
    "        #print(\"choice = \", choice)\n",
    "    #uses MSE    \n",
    "    def calc_fitness(self, data, y):\n",
    "        f = 0\n",
    "        for i in range(len(data)):\n",
    "            sq_err = (y[i]-self.calc_row(data[i]))**2\n",
    "            if (np.iscomplex([sq_err])[0]):\n",
    "#                 print(data[i], \" data\")\n",
    "#                 print(self.calc_row(data[i]), \" calc row\")\n",
    "#                 print(sq_err, \" sq err\")\n",
    "                raise ValueError(\"asdf\")\n",
    "            f += sq_err\n",
    "#         return f\n",
    "#         if f == 0:\n",
    "#             self.fitness = 9999999\n",
    "#         else:\n",
    "#             self.fitness = 1/f\n",
    "        mse = f/len(data)\n",
    "        self.fitness = 1000*(1/(1+mse))\n",
    "        return self.fitness\n",
    "    \n",
    "    def get_fitness(self):\n",
    "        return self.fitness\n",
    "    \n",
    "    def calc_row(self, row):\n",
    "        s = \"\"\n",
    "        for i in range(self.num_vars):\n",
    "            if row[i] == 0:\n",
    "                row[i] = row[i] + 0.01\n",
    "            if i != self.num_vars - 1:\n",
    "                s += \"{0}*({1})**{2} {3} \".format(self.coeffs[i], row[i], self.pows[i], self.operators[i])\n",
    "            else:\n",
    "                s += \"{0}*({1})**{2} \".format(self.coeffs[i], row[i], self.pows[i])\n",
    "#             print(s)\n",
    "        return eval(str(s))\n",
    "\n",
    "    def get_coeffs(self):\n",
    "        return self.coeffs, self.pows, self.operators\n",
    "    \n",
    "    def __repr__(self):\n",
    "        s = \"\"\n",
    "        for i in range(self.num_vars):\n",
    "            if i != self.num_vars - 1:\n",
    "                s += \"{0}*(x{1})**{2} {3} \".format(self.coeffs[i], i, self.pows[i], self.operators[i])\n",
    "            else:\n",
    "                s += \"{0}*(x{1})**{2} \".format(self.coeffs[i], i, self.pows[i])\n",
    "        return s"
   ]
  },
  {
   "cell_type": "code",
   "execution_count": null,
   "metadata": {},
   "outputs": [],
   "source": [
    "\n",
    "    "
   ]
  },
  {
   "cell_type": "code",
   "execution_count": 1739,
   "metadata": {},
   "outputs": [],
   "source": [
    "for i in range(10):\n",
    "    A = Individual([1, 1], [2, 3], ['+'])\n",
    "    B = Individual([2, 4], [6, 8], ['*'])\n",
    "    A.mate(B)\n",
    "\n",
    "    #A.calc_row([1, 3])\n",
    "    A.calc_fitness(data, y)\n",
    "    \n",
    "\n",
    "# s = A\n",
    "# str(s)\n",
    "# eval(str(s))"
   ]
  },
  {
   "cell_type": "code",
   "execution_count": 1740,
   "metadata": {},
   "outputs": [],
   "source": [
    "a = np.array(np.random.uniform(low=-1.0, high=1.0, size=100))\n",
    "b = np.array(np.random.uniform(low=-1.0, high=1.0, size=100))\n",
    "x = np.linspace(-10, 10, 100)\n",
    "y = x**3"
   ]
  },
  {
   "cell_type": "code",
   "execution_count": 1741,
   "metadata": {},
   "outputs": [
    {
     "data": {
      "text/plain": [
       "<matplotlib.collections.PathCollection at 0x1fd7c3e74c8>"
      ]
     },
     "execution_count": 1741,
     "metadata": {},
     "output_type": "execute_result"
    },
    {
     "data": {
      "image/png": "[encoded data removed]",
      "text/plain": [
       "<Figure size 432x288 with 1 Axes>"
      ]
     },
     "metadata": {
      "needs_background": "light"
     },
     "output_type": "display_data"
    }
   ],
   "source": [
    "plt.scatter(x, y)"
   ]
  },
  {
   "cell_type": "code",
   "execution_count": 1742,
   "metadata": {},
   "outputs": [],
   "source": [
    "a = [[2],[3]]\n",
    "d = Individual(*a, [])"
   ]
  },
  {
   "cell_type": "code",
   "execution_count": 1743,
   "metadata": {},
   "outputs": [],
   "source": [
    "individuals = generate_individuals(100, 1, -5, 5, -5, 5, ['+','-','/','*'])\n"
   ]
  },
  {
   "cell_type": "code",
   "execution_count": 1744,
   "metadata": {},
   "outputs": [],
   "source": [
    "# def generate_individuals(n, minvals, maxvals, operators, classname):\n",
    "#     if len(minvals) != len(maxvals):\n",
    "#         raise ValueError(\"len(minvals) != len(maxvals)\")\n",
    "#     if len(operators) != len(minvals) - 1:\n",
    "#         raise ValueError(\"len(operators) != len(maxvals) - 1\")\n",
    "#     indiv = []\n",
    "#     for i in range(n):\n",
    "#         l = [[np.random.randint(low=minvals[j], high=maxvals[j]) for _ in range(len(minvals))] for j in range(len(minvals))]\n",
    "#         a = np.random.choice(operators, len(minvals)-1)\n",
    "#         print(*l, a)\n",
    "#         indiv.append(classname(*l, a))\n",
    "#     return indiv"
   ]
  },
  {
   "cell_type": "code",
   "execution_count": 1745,
   "metadata": {},
   "outputs": [],
   "source": [
    "def generate_individuals(n, num_vars, coeff_min, coeff_max, exp_min, exp_max, operators):\n",
    "    indiv = []\n",
    "    if num_vars > 1 and len(operators) == 0:\n",
    "        raise ValueError(\"no operators\")\n",
    "    for i in range(n):\n",
    "        l = [np.random.uniform(low=coeff_min, high=coeff_max) for _ in range(num_vars)]\n",
    "        a = [np.random.randint(low=exp_min, high=exp_max) for _ in range(num_vars)]\n",
    "        m = np.random.choice(operators, len(l)-1)\n",
    "        indiv.append(Individual(l, a, m))\n",
    "    return indiv"
   ]
  },
  {
   "cell_type": "code",
   "execution_count": 1746,
   "metadata": {},
   "outputs": [],
   "source": [
    "A = Individual([2], [3], [])\n",
    "B = Individual([3], [3], [])\n",
    "C = Individual([4], [3], [])\n",
    "\n",
    "D = Individual([1], [2], [])\n",
    "E = Individual([4], [2], [])\n",
    "F = Individual([1.4], [3], [])\n",
    "\n",
    "# A = Individual([1, 1, 1], [2, 3, 2], ['+'])\n",
    "# B = Individual([2, 4, 5], [6, 8, 3], ['*'])\n",
    "# C = Individual([1, 1, 2], [2, 3, 3], ['+'])\n",
    "# D = Individual([2, 4, 1], [6, 8, 7], ['*'])\n",
    "# E = Individual([1, 1, 2], [2, 3, 6], ['+'])\n",
    "# F = Individual([2, 4, 2], [6, 8, 2], ['*'])\n",
    "# dd = Population([A, B, C, D, E, F], data, y)\n",
    "x = np.linspace(-10, 10, 100)\n",
    "\n",
    "xarr = np.array([[i] for i in x])\n",
    "d = Population([A, B, C, D, E, F], xarr, y)"
   ]
  },
  {
   "cell_type": "code",
   "execution_count": 1747,
   "metadata": {},
   "outputs": [],
   "source": [
    "individuals = generate_individuals(1000, 1, -5, 5, -5, 5, ['+','-','/','*'])\n",
    "d = Population(individuals, xarr, y)"
   ]
  },
  {
   "cell_type": "code",
   "execution_count": 1748,
   "metadata": {},
   "outputs": [],
   "source": [
    "from tqdm import tqdm"
   ]
  },
  {
   "cell_type": "code",
   "execution_count": 1749,
   "metadata": {},
   "outputs": [
    {
     "name": "stderr",
     "output_type": "stream",
     "text": [
      "\r",
      "  0%|                                                                                           | 0/10 [00:00<?, ?it/s]"
     ]
    },
    {
     "name": "stdout",
     "output_type": "stream",
     "text": [
      "0.8353337218984382*(x0)**3 \n"
     ]
    },
    {
     "name": "stderr",
     "output_type": "stream",
     "text": [
      "\r",
      " 10%|████████▎                                                                          | 1/10 [00:01<00:14,  1.58s/it]"
     ]
    },
    {
     "name": "stdout",
     "output_type": "stream",
     "text": [
      "0.588503433670069*(x0)**3 \n"
     ]
    },
    {
     "name": "stderr",
     "output_type": "stream",
     "text": [
      "\r",
      " 20%|████████████████▌                                                                  | 2/10 [00:03<00:12,  1.59s/it]"
     ]
    },
    {
     "name": "stdout",
     "output_type": "stream",
     "text": [
      "0.588503433670069*(x0)**3 \n"
     ]
    },
    {
     "name": "stderr",
     "output_type": "stream",
     "text": [
      "\r",
      " 30%|████████████████████████▉                                                          | 3/10 [00:04<00:11,  1.60s/it]"
     ]
    },
    {
     "name": "stdout",
     "output_type": "stream",
     "text": [
      "4.701342356465988*(x0)**1 \n"
     ]
    },
    {
     "name": "stderr",
     "output_type": "stream",
     "text": [
      "\r",
      " 40%|█████████████████████████████████▏                                                 | 4/10 [00:06<00:09,  1.59s/it]"
     ]
    },
    {
     "name": "stdout",
     "output_type": "stream",
     "text": [
      "26.517602631070467*(x0)**1 \n"
     ]
    },
    {
     "name": "stderr",
     "output_type": "stream",
     "text": [
      "\r",
      " 50%|█████████████████████████████████████████▌                                         | 5/10 [00:07<00:07,  1.59s/it]"
     ]
    },
    {
     "name": "stdout",
     "output_type": "stream",
     "text": [
      "28.80879182458153*(x0)**1 \n"
     ]
    },
    {
     "name": "stderr",
     "output_type": "stream",
     "text": [
      "\r",
      " 60%|█████████████████████████████████████████████████▊                                 | 6/10 [00:09<00:06,  1.60s/it]"
     ]
    },
    {
     "name": "stdout",
     "output_type": "stream",
     "text": [
      "18.821325707958618*(x0)**-1 \n"
     ]
    },
    {
     "name": "stderr",
     "output_type": "stream",
     "text": [
      "\r",
      " 70%|██████████████████████████████████████████████████████████                         | 7/10 [00:11<00:04,  1.61s/it]"
     ]
    },
    {
     "name": "stdout",
     "output_type": "stream",
     "text": [
      "18.821325707958618*(x0)**-1 \n"
     ]
    },
    {
     "name": "stderr",
     "output_type": "stream",
     "text": [
      "\r",
      " 80%|██████████████████████████████████████████████████████████████████▍                | 8/10 [00:12<00:03,  1.61s/it]"
     ]
    },
    {
     "name": "stdout",
     "output_type": "stream",
     "text": [
      "7.931095430499744*(x0)**1 \n"
     ]
    },
    {
     "name": "stderr",
     "output_type": "stream",
     "text": [
      "\r",
      " 90%|██████████████████████████████████████████████████████████████████████████▋        | 9/10 [00:14<00:01,  1.61s/it]"
     ]
    },
    {
     "name": "stdout",
     "output_type": "stream",
     "text": [
      "7.931095430499744*(x0)**1 \n"
     ]
    },
    {
     "name": "stderr",
     "output_type": "stream",
     "text": [
      "100%|██████████████████████████████████████████████████████████████████████████████████| 10/10 [00:16<00:00,  1.62s/it]\n"
     ]
    }
   ],
   "source": [
    "fitnesses = []\n",
    "x = []\n",
    "for i in tqdm(range(10)):\n",
    "    d.cycle()\n",
    "    best = d.get_best_func()\n",
    "    fitnesses.append(best.get_fitness())\n",
    "    print(best)\n",
    "    x.append(i)"
   ]
  },
  {
   "cell_type": "code",
   "execution_count": 1750,
   "metadata": {},
   "outputs": [
    {
     "data": {
      "text/plain": [
       "7.931095430499744*(x0)**1 "
      ]
     },
     "execution_count": 1750,
     "metadata": {},
     "output_type": "execute_result"
    }
   ],
   "source": [
    "d.get_best_func()"
   ]
  },
  {
   "cell_type": "code",
   "execution_count": 1751,
   "metadata": {},
   "outputs": [
    {
     "data": {
      "text/plain": [
       "[<matplotlib.lines.Line2D at 0x1fd7c495c48>]"
      ]
     },
     "execution_count": 1751,
     "metadata": {},
     "output_type": "execute_result"
    },
    {
     "data": {
      "image/png": "[encoded data removed]",
      "text/plain": [
       "<Figure size 432x288 with 1 Axes>"
      ]
     },
     "metadata": {
      "needs_background": "light"
     },
     "output_type": "display_data"
    }
   ],
   "source": [
    "plt.plot(x, fitnesses)\n",
    "    "
   ]
  },
  {
   "cell_type": "code",
   "execution_count": 1640,
   "metadata": {},
   "outputs": [],
   "source": [
    "A = Individual([2], [3], [])\n"
   ]
  },
  {
   "cell_type": "code",
   "execution_count": 1645,
   "metadata": {},
   "outputs": [
    {
     "data": {
      "text/plain": [
       "2*(x0)**3 "
      ]
     },
     "execution_count": 1645,
     "metadata": {},
     "output_type": "execute_result"
    }
   ],
   "source": [
    "import copy\n",
    "c"
   ]
  },
  {
   "cell_type": "code",
   "execution_count": null,
   "metadata": {},
   "outputs": [],
   "source": []
  }
 ],
 "metadata": {
  "kernelspec": {
   "display_name": "Tensorflow-GPU",
   "language": "python",
   "name": "tf_gpu"
  },
  "language_info": {
   "codemirror_mode": {
    "name": "ipython",
    "version": 3
   },
   "file_extension": ".py",
   "mimetype": "text/x-python",
   "name": "python",
   "nbconvert_exporter": "python",
   "pygments_lexer": "ipython3",
   "version": "3.7.4"
  }
 },
 "nbformat": 4,
 "nbformat_minor": 2
}
